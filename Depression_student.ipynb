{
  "nbformat": 4,
  "nbformat_minor": 0,
  "metadata": {
    "colab": {
      "name": "Depression_student.ipynb",
      "provenance": [],
      "collapsed_sections": [],
      "mount_file_id": "19OhQs0KrFQhgLobgt2eFYeICs_FfYSB3",
      "authorship_tag": "ABX9TyPd3oc6bLlwThoDsBNhzIZW",
      "include_colab_link": true
    },
    "kernelspec": {
      "name": "python3",
      "display_name": "Python 3"
    },
    "language_info": {
      "name": "python"
    }
  },
  "cells": [
    {
      "cell_type": "markdown",
      "metadata": {
        "id": "view-in-github",
        "colab_type": "text"
      },
      "source": [
        "<a href=\"https://colab.research.google.com/github/Federaffo/Data_Intensive_2022/blob/main/Depression_student.ipynb\" target=\"_parent\"><img src=\"https://colab.research.google.com/assets/colab-badge.svg\" alt=\"Open In Colab\"/></a>"
      ]
    },
    {
      "cell_type": "markdown",
      "source": [
        "Importo le librerie"
      ],
      "metadata": {
        "id": "a_Tot-DxY8i5"
      }
    },
    {
      "cell_type": "code",
      "source": [
        "%matplotlib inline\n",
        "import os.path\n",
        "import numpy as np\n",
        "import pandas as pd\n",
        "import matplotlib.pyplot as plt\n",
        "import matplotlib.patches as mpatches\n",
        "import seaborn as sb"
      ],
      "metadata": {
        "id": "swcjnHYG5lAk"
      },
      "execution_count": 1,
      "outputs": []
    },
    {
      "cell_type": "markdown",
      "metadata": {
        "id": "8wsq8qye59Ja"
      },
      "source": [
        "# Descrizione problema\n",
        "\n",
        "Il dataset in esame, contiene informazioni utili per la previsione di assenza o presenza di depressione tra gli studenti\n",
        "\n",
        "L'obiettivo del progetto è quello di predire una variabile discreta binaria."
      ]
    },
    {
      "cell_type": "code",
      "source": [
        "student = pd.read_csv(\"students.csv\",  index_col=0)"
      ],
      "metadata": {
        "id": "_8F3HmvXakeU"
      },
      "execution_count": 2,
      "outputs": []
    },
    {
      "cell_type": "code",
      "source": [
        "student.head()"
      ],
      "metadata": {
        "colab": {
          "base_uri": "https://localhost:8080/",
          "height": 206
        },
        "id": "1QSy1qtfapku",
        "outputId": "50812cf3-535e-4fbe-94c8-02b386b3b52f"
      },
      "execution_count": 3,
      "outputs": [
        {
          "output_type": "execute_result",
          "data": {
            "text/plain": [
              "        Timestamp  gender   age                           course  year  \\\n",
              "0  8/7/2020 17:46    Male  21.0                          Finance   3.0   \n",
              "1  8/7/2020 14:56  Female  18.0               Management Studies   2.0   \n",
              "2  8/7/2020 16:21  Female  21.0  General Business and Management   2.0   \n",
              "3  8/7/2020 14:31    Male  20.0                       Accounting   2.0   \n",
              "4  8/7/2020 17:50    Male  18.0                 Computer Science   1.0   \n",
              "\n",
              "      grades  marital  depression  anxiety  panic_attack  specialist  sport  \\\n",
              "0  20.252930    False       False     True         False       False   True   \n",
              "1  29.959451    False        True     True         False        True  False   \n",
              "2  25.429350     True        True    False          True        True  False   \n",
              "3  19.425978    False       False     True         False       False   True   \n",
              "4  21.539774    False       False     True         False       False   True   \n",
              "\n",
              "   alchool  \n",
              "0    False  \n",
              "1     True  \n",
              "2     True  \n",
              "3    False  \n",
              "4    False  "
            ],
            "text/html": [
              "\n",
              "  <div id=\"df-b14d0d7d-e1c5-4ff5-b515-f09f9060244d\">\n",
              "    <div class=\"colab-df-container\">\n",
              "      <div>\n",
              "<style scoped>\n",
              "    .dataframe tbody tr th:only-of-type {\n",
              "        vertical-align: middle;\n",
              "    }\n",
              "\n",
              "    .dataframe tbody tr th {\n",
              "        vertical-align: top;\n",
              "    }\n",
              "\n",
              "    .dataframe thead th {\n",
              "        text-align: right;\n",
              "    }\n",
              "</style>\n",
              "<table border=\"1\" class=\"dataframe\">\n",
              "  <thead>\n",
              "    <tr style=\"text-align: right;\">\n",
              "      <th></th>\n",
              "      <th>Timestamp</th>\n",
              "      <th>gender</th>\n",
              "      <th>age</th>\n",
              "      <th>course</th>\n",
              "      <th>year</th>\n",
              "      <th>grades</th>\n",
              "      <th>marital</th>\n",
              "      <th>depression</th>\n",
              "      <th>anxiety</th>\n",
              "      <th>panic_attack</th>\n",
              "      <th>specialist</th>\n",
              "      <th>sport</th>\n",
              "      <th>alchool</th>\n",
              "    </tr>\n",
              "  </thead>\n",
              "  <tbody>\n",
              "    <tr>\n",
              "      <th>0</th>\n",
              "      <td>8/7/2020 17:46</td>\n",
              "      <td>Male</td>\n",
              "      <td>21.0</td>\n",
              "      <td>Finance</td>\n",
              "      <td>3.0</td>\n",
              "      <td>20.252930</td>\n",
              "      <td>False</td>\n",
              "      <td>False</td>\n",
              "      <td>True</td>\n",
              "      <td>False</td>\n",
              "      <td>False</td>\n",
              "      <td>True</td>\n",
              "      <td>False</td>\n",
              "    </tr>\n",
              "    <tr>\n",
              "      <th>1</th>\n",
              "      <td>8/7/2020 14:56</td>\n",
              "      <td>Female</td>\n",
              "      <td>18.0</td>\n",
              "      <td>Management Studies</td>\n",
              "      <td>2.0</td>\n",
              "      <td>29.959451</td>\n",
              "      <td>False</td>\n",
              "      <td>True</td>\n",
              "      <td>True</td>\n",
              "      <td>False</td>\n",
              "      <td>True</td>\n",
              "      <td>False</td>\n",
              "      <td>True</td>\n",
              "    </tr>\n",
              "    <tr>\n",
              "      <th>2</th>\n",
              "      <td>8/7/2020 16:21</td>\n",
              "      <td>Female</td>\n",
              "      <td>21.0</td>\n",
              "      <td>General Business and Management</td>\n",
              "      <td>2.0</td>\n",
              "      <td>25.429350</td>\n",
              "      <td>True</td>\n",
              "      <td>True</td>\n",
              "      <td>False</td>\n",
              "      <td>True</td>\n",
              "      <td>True</td>\n",
              "      <td>False</td>\n",
              "      <td>True</td>\n",
              "    </tr>\n",
              "    <tr>\n",
              "      <th>3</th>\n",
              "      <td>8/7/2020 14:31</td>\n",
              "      <td>Male</td>\n",
              "      <td>20.0</td>\n",
              "      <td>Accounting</td>\n",
              "      <td>2.0</td>\n",
              "      <td>19.425978</td>\n",
              "      <td>False</td>\n",
              "      <td>False</td>\n",
              "      <td>True</td>\n",
              "      <td>False</td>\n",
              "      <td>False</td>\n",
              "      <td>True</td>\n",
              "      <td>False</td>\n",
              "    </tr>\n",
              "    <tr>\n",
              "      <th>4</th>\n",
              "      <td>8/7/2020 17:50</td>\n",
              "      <td>Male</td>\n",
              "      <td>18.0</td>\n",
              "      <td>Computer Science</td>\n",
              "      <td>1.0</td>\n",
              "      <td>21.539774</td>\n",
              "      <td>False</td>\n",
              "      <td>False</td>\n",
              "      <td>True</td>\n",
              "      <td>False</td>\n",
              "      <td>False</td>\n",
              "      <td>True</td>\n",
              "      <td>False</td>\n",
              "    </tr>\n",
              "  </tbody>\n",
              "</table>\n",
              "</div>\n",
              "      <button class=\"colab-df-convert\" onclick=\"convertToInteractive('df-b14d0d7d-e1c5-4ff5-b515-f09f9060244d')\"\n",
              "              title=\"Convert this dataframe to an interactive table.\"\n",
              "              style=\"display:none;\">\n",
              "        \n",
              "  <svg xmlns=\"http://www.w3.org/2000/svg\" height=\"24px\"viewBox=\"0 0 24 24\"\n",
              "       width=\"24px\">\n",
              "    <path d=\"M0 0h24v24H0V0z\" fill=\"none\"/>\n",
              "    <path d=\"M18.56 5.44l.94 2.06.94-2.06 2.06-.94-2.06-.94-.94-2.06-.94 2.06-2.06.94zm-11 1L8.5 8.5l.94-2.06 2.06-.94-2.06-.94L8.5 2.5l-.94 2.06-2.06.94zm10 10l.94 2.06.94-2.06 2.06-.94-2.06-.94-.94-2.06-.94 2.06-2.06.94z\"/><path d=\"M17.41 7.96l-1.37-1.37c-.4-.4-.92-.59-1.43-.59-.52 0-1.04.2-1.43.59L10.3 9.45l-7.72 7.72c-.78.78-.78 2.05 0 2.83L4 21.41c.39.39.9.59 1.41.59.51 0 1.02-.2 1.41-.59l7.78-7.78 2.81-2.81c.8-.78.8-2.07 0-2.86zM5.41 20L4 18.59l7.72-7.72 1.47 1.35L5.41 20z\"/>\n",
              "  </svg>\n",
              "      </button>\n",
              "      \n",
              "  <style>\n",
              "    .colab-df-container {\n",
              "      display:flex;\n",
              "      flex-wrap:wrap;\n",
              "      gap: 12px;\n",
              "    }\n",
              "\n",
              "    .colab-df-convert {\n",
              "      background-color: #E8F0FE;\n",
              "      border: none;\n",
              "      border-radius: 50%;\n",
              "      cursor: pointer;\n",
              "      display: none;\n",
              "      fill: #1967D2;\n",
              "      height: 32px;\n",
              "      padding: 0 0 0 0;\n",
              "      width: 32px;\n",
              "    }\n",
              "\n",
              "    .colab-df-convert:hover {\n",
              "      background-color: #E2EBFA;\n",
              "      box-shadow: 0px 1px 2px rgba(60, 64, 67, 0.3), 0px 1px 3px 1px rgba(60, 64, 67, 0.15);\n",
              "      fill: #174EA6;\n",
              "    }\n",
              "\n",
              "    [theme=dark] .colab-df-convert {\n",
              "      background-color: #3B4455;\n",
              "      fill: #D2E3FC;\n",
              "    }\n",
              "\n",
              "    [theme=dark] .colab-df-convert:hover {\n",
              "      background-color: #434B5C;\n",
              "      box-shadow: 0px 1px 3px 1px rgba(0, 0, 0, 0.15);\n",
              "      filter: drop-shadow(0px 1px 2px rgba(0, 0, 0, 0.3));\n",
              "      fill: #FFFFFF;\n",
              "    }\n",
              "  </style>\n",
              "\n",
              "      <script>\n",
              "        const buttonEl =\n",
              "          document.querySelector('#df-b14d0d7d-e1c5-4ff5-b515-f09f9060244d button.colab-df-convert');\n",
              "        buttonEl.style.display =\n",
              "          google.colab.kernel.accessAllowed ? 'block' : 'none';\n",
              "\n",
              "        async function convertToInteractive(key) {\n",
              "          const element = document.querySelector('#df-b14d0d7d-e1c5-4ff5-b515-f09f9060244d');\n",
              "          const dataTable =\n",
              "            await google.colab.kernel.invokeFunction('convertToInteractive',\n",
              "                                                     [key], {});\n",
              "          if (!dataTable) return;\n",
              "\n",
              "          const docLinkHtml = 'Like what you see? Visit the ' +\n",
              "            '<a target=\"_blank\" href=https://colab.research.google.com/notebooks/data_table.ipynb>data table notebook</a>'\n",
              "            + ' to learn more about interactive tables.';\n",
              "          element.innerHTML = '';\n",
              "          dataTable['output_type'] = 'display_data';\n",
              "          await google.colab.output.renderOutput(dataTable, element);\n",
              "          const docLink = document.createElement('div');\n",
              "          docLink.innerHTML = docLinkHtml;\n",
              "          element.appendChild(docLink);\n",
              "        }\n",
              "      </script>\n",
              "    </div>\n",
              "  </div>\n",
              "  "
            ]
          },
          "metadata": {},
          "execution_count": 3
        }
      ]
    },
    {
      "cell_type": "markdown",
      "metadata": {
        "id": "CeqkC6XHFtYS"
      },
      "source": [
        "Di seguito sono riportate le dimensioni in memoria, il numero di istanze non nulle e il tipo delle feature che compongono i dati raccolti nel dataset (training set) "
      ]
    },
    {
      "cell_type": "code",
      "execution_count": 4,
      "metadata": {
        "id": "n4M1-SqdFtYS",
        "outputId": "1268edae-dc86-4ff0-d2fd-dfdfbf6171ae",
        "colab": {
          "base_uri": "https://localhost:8080/",
          "height": 0
        }
      },
      "outputs": [
        {
          "output_type": "stream",
          "name": "stdout",
          "text": [
            "<class 'pandas.core.frame.DataFrame'>\n",
            "Int64Index: 2000 entries, 0 to 1999\n",
            "Data columns (total 13 columns):\n",
            " #   Column        Non-Null Count  Dtype  \n",
            "---  ------        --------------  -----  \n",
            " 0   Timestamp     2000 non-null   object \n",
            " 1   gender        2000 non-null   object \n",
            " 2   age           2000 non-null   float64\n",
            " 3   course        2000 non-null   object \n",
            " 4   year          2000 non-null   float64\n",
            " 5   grades        2000 non-null   float64\n",
            " 6   marital       2000 non-null   bool   \n",
            " 7   depression    2000 non-null   bool   \n",
            " 8   anxiety       2000 non-null   bool   \n",
            " 9   panic_attack  2000 non-null   bool   \n",
            " 10  specialist    2000 non-null   bool   \n",
            " 11  sport         2000 non-null   bool   \n",
            " 12  alchool       2000 non-null   bool   \n",
            "dtypes: bool(7), float64(3), object(3)\n",
            "memory usage: 474.6 KB\n"
          ]
        }
      ],
      "source": [
        "student.info(memory_usage=\"deep\")"
      ]
    },
    {
      "cell_type": "markdown",
      "source": [
        "# Data Cleaning"
      ],
      "metadata": {
        "id": "vPaA3a4D8EPV"
      }
    },
    {
      "cell_type": "markdown",
      "source": [
        "Formatto i dati in modo da poter essere elaborati con maggiore facilità\n",
        "\n",
        "\n",
        "Elimino inoltre la colonna TimeStamp in quanto riguarda la data di compilazione del questionario e non ha nessuna correlazione con i dati"
      ],
      "metadata": {
        "id": "b_rN0tTb-MIQ"
      }
    },
    {
      "cell_type": "code",
      "source": [
        "# Gender:  0 => Female\n",
        "# Gender:  1 => Male\n",
        "student[\"gender\"] = student['gender'].map({'Female': False, 'Male': True})\n",
        "\n",
        "student.drop(\"Timestamp\",axis = 1, inplace=True)\n",
        "\n"
      ],
      "metadata": {
        "id": "cVOpaaV80nup"
      },
      "execution_count": 5,
      "outputs": []
    },
    {
      "cell_type": "code",
      "source": [
        "student.head()"
      ],
      "metadata": {
        "colab": {
          "base_uri": "https://localhost:8080/",
          "height": 206
        },
        "outputId": "e0f3cb7b-3b84-4db2-a341-83df314bee1d",
        "id": "pQB8Awyo-INq"
      },
      "execution_count": 6,
      "outputs": [
        {
          "output_type": "execute_result",
          "data": {
            "text/plain": [
              "   gender   age                           course  year     grades  marital  \\\n",
              "0    True  21.0                          Finance   3.0  20.252930    False   \n",
              "1   False  18.0               Management Studies   2.0  29.959451    False   \n",
              "2   False  21.0  General Business and Management   2.0  25.429350     True   \n",
              "3    True  20.0                       Accounting   2.0  19.425978    False   \n",
              "4    True  18.0                 Computer Science   1.0  21.539774    False   \n",
              "\n",
              "   depression  anxiety  panic_attack  specialist  sport  alchool  \n",
              "0       False     True         False       False   True    False  \n",
              "1        True     True         False        True  False     True  \n",
              "2        True    False          True        True  False     True  \n",
              "3       False     True         False       False   True    False  \n",
              "4       False     True         False       False   True    False  "
            ],
            "text/html": [
              "\n",
              "  <div id=\"df-96f78195-f2e6-4443-9aac-47dacda58ff0\">\n",
              "    <div class=\"colab-df-container\">\n",
              "      <div>\n",
              "<style scoped>\n",
              "    .dataframe tbody tr th:only-of-type {\n",
              "        vertical-align: middle;\n",
              "    }\n",
              "\n",
              "    .dataframe tbody tr th {\n",
              "        vertical-align: top;\n",
              "    }\n",
              "\n",
              "    .dataframe thead th {\n",
              "        text-align: right;\n",
              "    }\n",
              "</style>\n",
              "<table border=\"1\" class=\"dataframe\">\n",
              "  <thead>\n",
              "    <tr style=\"text-align: right;\">\n",
              "      <th></th>\n",
              "      <th>gender</th>\n",
              "      <th>age</th>\n",
              "      <th>course</th>\n",
              "      <th>year</th>\n",
              "      <th>grades</th>\n",
              "      <th>marital</th>\n",
              "      <th>depression</th>\n",
              "      <th>anxiety</th>\n",
              "      <th>panic_attack</th>\n",
              "      <th>specialist</th>\n",
              "      <th>sport</th>\n",
              "      <th>alchool</th>\n",
              "    </tr>\n",
              "  </thead>\n",
              "  <tbody>\n",
              "    <tr>\n",
              "      <th>0</th>\n",
              "      <td>True</td>\n",
              "      <td>21.0</td>\n",
              "      <td>Finance</td>\n",
              "      <td>3.0</td>\n",
              "      <td>20.252930</td>\n",
              "      <td>False</td>\n",
              "      <td>False</td>\n",
              "      <td>True</td>\n",
              "      <td>False</td>\n",
              "      <td>False</td>\n",
              "      <td>True</td>\n",
              "      <td>False</td>\n",
              "    </tr>\n",
              "    <tr>\n",
              "      <th>1</th>\n",
              "      <td>False</td>\n",
              "      <td>18.0</td>\n",
              "      <td>Management Studies</td>\n",
              "      <td>2.0</td>\n",
              "      <td>29.959451</td>\n",
              "      <td>False</td>\n",
              "      <td>True</td>\n",
              "      <td>True</td>\n",
              "      <td>False</td>\n",
              "      <td>True</td>\n",
              "      <td>False</td>\n",
              "      <td>True</td>\n",
              "    </tr>\n",
              "    <tr>\n",
              "      <th>2</th>\n",
              "      <td>False</td>\n",
              "      <td>21.0</td>\n",
              "      <td>General Business and Management</td>\n",
              "      <td>2.0</td>\n",
              "      <td>25.429350</td>\n",
              "      <td>True</td>\n",
              "      <td>True</td>\n",
              "      <td>False</td>\n",
              "      <td>True</td>\n",
              "      <td>True</td>\n",
              "      <td>False</td>\n",
              "      <td>True</td>\n",
              "    </tr>\n",
              "    <tr>\n",
              "      <th>3</th>\n",
              "      <td>True</td>\n",
              "      <td>20.0</td>\n",
              "      <td>Accounting</td>\n",
              "      <td>2.0</td>\n",
              "      <td>19.425978</td>\n",
              "      <td>False</td>\n",
              "      <td>False</td>\n",
              "      <td>True</td>\n",
              "      <td>False</td>\n",
              "      <td>False</td>\n",
              "      <td>True</td>\n",
              "      <td>False</td>\n",
              "    </tr>\n",
              "    <tr>\n",
              "      <th>4</th>\n",
              "      <td>True</td>\n",
              "      <td>18.0</td>\n",
              "      <td>Computer Science</td>\n",
              "      <td>1.0</td>\n",
              "      <td>21.539774</td>\n",
              "      <td>False</td>\n",
              "      <td>False</td>\n",
              "      <td>True</td>\n",
              "      <td>False</td>\n",
              "      <td>False</td>\n",
              "      <td>True</td>\n",
              "      <td>False</td>\n",
              "    </tr>\n",
              "  </tbody>\n",
              "</table>\n",
              "</div>\n",
              "      <button class=\"colab-df-convert\" onclick=\"convertToInteractive('df-96f78195-f2e6-4443-9aac-47dacda58ff0')\"\n",
              "              title=\"Convert this dataframe to an interactive table.\"\n",
              "              style=\"display:none;\">\n",
              "        \n",
              "  <svg xmlns=\"http://www.w3.org/2000/svg\" height=\"24px\"viewBox=\"0 0 24 24\"\n",
              "       width=\"24px\">\n",
              "    <path d=\"M0 0h24v24H0V0z\" fill=\"none\"/>\n",
              "    <path d=\"M18.56 5.44l.94 2.06.94-2.06 2.06-.94-2.06-.94-.94-2.06-.94 2.06-2.06.94zm-11 1L8.5 8.5l.94-2.06 2.06-.94-2.06-.94L8.5 2.5l-.94 2.06-2.06.94zm10 10l.94 2.06.94-2.06 2.06-.94-2.06-.94-.94-2.06-.94 2.06-2.06.94z\"/><path d=\"M17.41 7.96l-1.37-1.37c-.4-.4-.92-.59-1.43-.59-.52 0-1.04.2-1.43.59L10.3 9.45l-7.72 7.72c-.78.78-.78 2.05 0 2.83L4 21.41c.39.39.9.59 1.41.59.51 0 1.02-.2 1.41-.59l7.78-7.78 2.81-2.81c.8-.78.8-2.07 0-2.86zM5.41 20L4 18.59l7.72-7.72 1.47 1.35L5.41 20z\"/>\n",
              "  </svg>\n",
              "      </button>\n",
              "      \n",
              "  <style>\n",
              "    .colab-df-container {\n",
              "      display:flex;\n",
              "      flex-wrap:wrap;\n",
              "      gap: 12px;\n",
              "    }\n",
              "\n",
              "    .colab-df-convert {\n",
              "      background-color: #E8F0FE;\n",
              "      border: none;\n",
              "      border-radius: 50%;\n",
              "      cursor: pointer;\n",
              "      display: none;\n",
              "      fill: #1967D2;\n",
              "      height: 32px;\n",
              "      padding: 0 0 0 0;\n",
              "      width: 32px;\n",
              "    }\n",
              "\n",
              "    .colab-df-convert:hover {\n",
              "      background-color: #E2EBFA;\n",
              "      box-shadow: 0px 1px 2px rgba(60, 64, 67, 0.3), 0px 1px 3px 1px rgba(60, 64, 67, 0.15);\n",
              "      fill: #174EA6;\n",
              "    }\n",
              "\n",
              "    [theme=dark] .colab-df-convert {\n",
              "      background-color: #3B4455;\n",
              "      fill: #D2E3FC;\n",
              "    }\n",
              "\n",
              "    [theme=dark] .colab-df-convert:hover {\n",
              "      background-color: #434B5C;\n",
              "      box-shadow: 0px 1px 3px 1px rgba(0, 0, 0, 0.15);\n",
              "      filter: drop-shadow(0px 1px 2px rgba(0, 0, 0, 0.3));\n",
              "      fill: #FFFFFF;\n",
              "    }\n",
              "  </style>\n",
              "\n",
              "      <script>\n",
              "        const buttonEl =\n",
              "          document.querySelector('#df-96f78195-f2e6-4443-9aac-47dacda58ff0 button.colab-df-convert');\n",
              "        buttonEl.style.display =\n",
              "          google.colab.kernel.accessAllowed ? 'block' : 'none';\n",
              "\n",
              "        async function convertToInteractive(key) {\n",
              "          const element = document.querySelector('#df-96f78195-f2e6-4443-9aac-47dacda58ff0');\n",
              "          const dataTable =\n",
              "            await google.colab.kernel.invokeFunction('convertToInteractive',\n",
              "                                                     [key], {});\n",
              "          if (!dataTable) return;\n",
              "\n",
              "          const docLinkHtml = 'Like what you see? Visit the ' +\n",
              "            '<a target=\"_blank\" href=https://colab.research.google.com/notebooks/data_table.ipynb>data table notebook</a>'\n",
              "            + ' to learn more about interactive tables.';\n",
              "          element.innerHTML = '';\n",
              "          dataTable['output_type'] = 'display_data';\n",
              "          await google.colab.output.renderOutput(dataTable, element);\n",
              "          const docLink = document.createElement('div');\n",
              "          docLink.innerHTML = docLinkHtml;\n",
              "          element.appendChild(docLink);\n",
              "        }\n",
              "      </script>\n",
              "    </div>\n",
              "  </div>\n",
              "  "
            ]
          },
          "metadata": {},
          "execution_count": 6
        }
      ]
    },
    {
      "cell_type": "markdown",
      "metadata": {
        "id": "3L_Sn5SDFtYT"
      },
      "source": [
        "### Significato delle feature"
      ]
    },
    {
      "cell_type": "markdown",
      "metadata": {
        "id": "wTb47myOFtYU"
      },
      "source": [
        "Dati di tipo categorico \n",
        "- **`gender`** Genere del soggetto in esame (True se maschio False se Femmina)\n",
        "\n",
        "- **`age`** Età del soggetto\n",
        "\n",
        "- **`course`** Il nome del corso di studio dello studente\n",
        "\n",
        "- **`year`** Anno di studio corrente\n",
        "\n",
        "- **`grades`** Media dei voti dello studente\n",
        "\n",
        "- **`marital`** Indica se il soggetto è sposato oppure no\n",
        "\n",
        "- **`depression`** indica la presenza o meno di depressione dello studente\n",
        "\n",
        "- **`anxiety`** indica se il soggetto soffre di ansia\n",
        "\n",
        "- **`panic_attack`** Indica se il soggetto soffre di attacchi di panico\n",
        "\n",
        "- **`specialist`** indica se il soggetto è seguito da uno specialista (es. psicologo) \n",
        "\n",
        "- **`sport`** indica se il soggetto pratica sport regolarmente\n",
        "\n",
        "- **`alchool`** indica se il soggetto fa uso regolarmente di alchol\n",
        "\n"
      ]
    },
    {
      "cell_type": "markdown",
      "metadata": {
        "id": "0kPIcYCQFtYU"
      },
      "source": [
        "Con il metodo _describe_ è possibile avere una rappresentazione statistica delle feature numeriche, ottenendo media, deviazione standard e la distribuzione in termini di massimi, minimi e percentili.\n"
      ]
    },
    {
      "cell_type": "markdown",
      "metadata": {
        "id": "jIipdG7kFtYV"
      },
      "source": [
        "### Esplorazione singole feature"
      ]
    },
    {
      "cell_type": "code",
      "execution_count": 7,
      "metadata": {
        "id": "jHcU7w91FtYV",
        "outputId": "7192a6e5-3fef-4565-918c-031742055d4c",
        "colab": {
          "base_uri": "https://localhost:8080/",
          "height": 300
        }
      },
      "outputs": [
        {
          "output_type": "execute_result",
          "data": {
            "text/plain": [
              "              age         year       grades\n",
              "count  2000.00000  2000.000000  2000.000000\n",
              "mean     20.77500     2.854500    24.071375\n",
              "std       1.93604     1.307358     3.161989\n",
              "min      18.00000     1.000000    18.000766\n",
              "25%      19.00000     2.000000    21.612770\n",
              "50%      21.00000     3.000000    24.168937\n",
              "75%      22.00000     4.000000    26.609599\n",
              "max      24.00000     5.000000    29.996210"
            ],
            "text/html": [
              "\n",
              "  <div id=\"df-476f67a1-8782-41b3-a145-9da6c4bdc31c\">\n",
              "    <div class=\"colab-df-container\">\n",
              "      <div>\n",
              "<style scoped>\n",
              "    .dataframe tbody tr th:only-of-type {\n",
              "        vertical-align: middle;\n",
              "    }\n",
              "\n",
              "    .dataframe tbody tr th {\n",
              "        vertical-align: top;\n",
              "    }\n",
              "\n",
              "    .dataframe thead th {\n",
              "        text-align: right;\n",
              "    }\n",
              "</style>\n",
              "<table border=\"1\" class=\"dataframe\">\n",
              "  <thead>\n",
              "    <tr style=\"text-align: right;\">\n",
              "      <th></th>\n",
              "      <th>age</th>\n",
              "      <th>year</th>\n",
              "      <th>grades</th>\n",
              "    </tr>\n",
              "  </thead>\n",
              "  <tbody>\n",
              "    <tr>\n",
              "      <th>count</th>\n",
              "      <td>2000.00000</td>\n",
              "      <td>2000.000000</td>\n",
              "      <td>2000.000000</td>\n",
              "    </tr>\n",
              "    <tr>\n",
              "      <th>mean</th>\n",
              "      <td>20.77500</td>\n",
              "      <td>2.854500</td>\n",
              "      <td>24.071375</td>\n",
              "    </tr>\n",
              "    <tr>\n",
              "      <th>std</th>\n",
              "      <td>1.93604</td>\n",
              "      <td>1.307358</td>\n",
              "      <td>3.161989</td>\n",
              "    </tr>\n",
              "    <tr>\n",
              "      <th>min</th>\n",
              "      <td>18.00000</td>\n",
              "      <td>1.000000</td>\n",
              "      <td>18.000766</td>\n",
              "    </tr>\n",
              "    <tr>\n",
              "      <th>25%</th>\n",
              "      <td>19.00000</td>\n",
              "      <td>2.000000</td>\n",
              "      <td>21.612770</td>\n",
              "    </tr>\n",
              "    <tr>\n",
              "      <th>50%</th>\n",
              "      <td>21.00000</td>\n",
              "      <td>3.000000</td>\n",
              "      <td>24.168937</td>\n",
              "    </tr>\n",
              "    <tr>\n",
              "      <th>75%</th>\n",
              "      <td>22.00000</td>\n",
              "      <td>4.000000</td>\n",
              "      <td>26.609599</td>\n",
              "    </tr>\n",
              "    <tr>\n",
              "      <th>max</th>\n",
              "      <td>24.00000</td>\n",
              "      <td>5.000000</td>\n",
              "      <td>29.996210</td>\n",
              "    </tr>\n",
              "  </tbody>\n",
              "</table>\n",
              "</div>\n",
              "      <button class=\"colab-df-convert\" onclick=\"convertToInteractive('df-476f67a1-8782-41b3-a145-9da6c4bdc31c')\"\n",
              "              title=\"Convert this dataframe to an interactive table.\"\n",
              "              style=\"display:none;\">\n",
              "        \n",
              "  <svg xmlns=\"http://www.w3.org/2000/svg\" height=\"24px\"viewBox=\"0 0 24 24\"\n",
              "       width=\"24px\">\n",
              "    <path d=\"M0 0h24v24H0V0z\" fill=\"none\"/>\n",
              "    <path d=\"M18.56 5.44l.94 2.06.94-2.06 2.06-.94-2.06-.94-.94-2.06-.94 2.06-2.06.94zm-11 1L8.5 8.5l.94-2.06 2.06-.94-2.06-.94L8.5 2.5l-.94 2.06-2.06.94zm10 10l.94 2.06.94-2.06 2.06-.94-2.06-.94-.94-2.06-.94 2.06-2.06.94z\"/><path d=\"M17.41 7.96l-1.37-1.37c-.4-.4-.92-.59-1.43-.59-.52 0-1.04.2-1.43.59L10.3 9.45l-7.72 7.72c-.78.78-.78 2.05 0 2.83L4 21.41c.39.39.9.59 1.41.59.51 0 1.02-.2 1.41-.59l7.78-7.78 2.81-2.81c.8-.78.8-2.07 0-2.86zM5.41 20L4 18.59l7.72-7.72 1.47 1.35L5.41 20z\"/>\n",
              "  </svg>\n",
              "      </button>\n",
              "      \n",
              "  <style>\n",
              "    .colab-df-container {\n",
              "      display:flex;\n",
              "      flex-wrap:wrap;\n",
              "      gap: 12px;\n",
              "    }\n",
              "\n",
              "    .colab-df-convert {\n",
              "      background-color: #E8F0FE;\n",
              "      border: none;\n",
              "      border-radius: 50%;\n",
              "      cursor: pointer;\n",
              "      display: none;\n",
              "      fill: #1967D2;\n",
              "      height: 32px;\n",
              "      padding: 0 0 0 0;\n",
              "      width: 32px;\n",
              "    }\n",
              "\n",
              "    .colab-df-convert:hover {\n",
              "      background-color: #E2EBFA;\n",
              "      box-shadow: 0px 1px 2px rgba(60, 64, 67, 0.3), 0px 1px 3px 1px rgba(60, 64, 67, 0.15);\n",
              "      fill: #174EA6;\n",
              "    }\n",
              "\n",
              "    [theme=dark] .colab-df-convert {\n",
              "      background-color: #3B4455;\n",
              "      fill: #D2E3FC;\n",
              "    }\n",
              "\n",
              "    [theme=dark] .colab-df-convert:hover {\n",
              "      background-color: #434B5C;\n",
              "      box-shadow: 0px 1px 3px 1px rgba(0, 0, 0, 0.15);\n",
              "      filter: drop-shadow(0px 1px 2px rgba(0, 0, 0, 0.3));\n",
              "      fill: #FFFFFF;\n",
              "    }\n",
              "  </style>\n",
              "\n",
              "      <script>\n",
              "        const buttonEl =\n",
              "          document.querySelector('#df-476f67a1-8782-41b3-a145-9da6c4bdc31c button.colab-df-convert');\n",
              "        buttonEl.style.display =\n",
              "          google.colab.kernel.accessAllowed ? 'block' : 'none';\n",
              "\n",
              "        async function convertToInteractive(key) {\n",
              "          const element = document.querySelector('#df-476f67a1-8782-41b3-a145-9da6c4bdc31c');\n",
              "          const dataTable =\n",
              "            await google.colab.kernel.invokeFunction('convertToInteractive',\n",
              "                                                     [key], {});\n",
              "          if (!dataTable) return;\n",
              "\n",
              "          const docLinkHtml = 'Like what you see? Visit the ' +\n",
              "            '<a target=\"_blank\" href=https://colab.research.google.com/notebooks/data_table.ipynb>data table notebook</a>'\n",
              "            + ' to learn more about interactive tables.';\n",
              "          element.innerHTML = '';\n",
              "          dataTable['output_type'] = 'display_data';\n",
              "          await google.colab.output.renderOutput(dataTable, element);\n",
              "          const docLink = document.createElement('div');\n",
              "          docLink.innerHTML = docLinkHtml;\n",
              "          element.appendChild(docLink);\n",
              "        }\n",
              "      </script>\n",
              "    </div>\n",
              "  </div>\n",
              "  "
            ]
          },
          "metadata": {},
          "execution_count": 7
        }
      ],
      "source": [
        "student.describe()"
      ]
    },
    {
      "cell_type": "markdown",
      "source": [
        "I dati sono distribuiti abbastanza uniformemente, i voti, riguardando studenti universitari si muovono tra un minimo di 18 ed un massimo di 30.\n",
        "Tra i dati non troviamo casi particolari che possano alterare l'elaborazione di un modello.\n"
      ],
      "metadata": {
        "id": "4UJJgzR8og9v"
      }
    },
    {
      "cell_type": "markdown",
      "source": [
        "# Analisi dei dati"
      ],
      "metadata": {
        "id": "It_9qUhQ_SQJ"
      }
    },
    {
      "cell_type": "code",
      "source": [
        "student['depression'].value_counts().plot.pie(autopct='%1.1f%%')"
      ],
      "metadata": {
        "colab": {
          "base_uri": "https://localhost:8080/",
          "height": 265
        },
        "id": "_Xg7Cp9ea87_",
        "outputId": "98511203-2b76-4d8f-d10c-a69a419e44fe"
      },
      "execution_count": 8,
      "outputs": [
        {
          "output_type": "execute_result",
          "data": {
            "text/plain": [
              "<matplotlib.axes._subplots.AxesSubplot at 0x7f11ee2cacd0>"
            ]
          },
          "metadata": {},
          "execution_count": 8
        },
        {
          "output_type": "display_data",
          "data": {
            "text/plain": [
              "<Figure size 432x288 with 1 Axes>"
            ],
            "image/png": "[encoded data removed]"
          },
          "metadata": {}
        }
      ]
    },
    {
      "cell_type": "markdown",
      "metadata": {
        "id": "WnL4gq0DFtYV"
      },
      "source": [
        "Circa il 70% degli studenti che fanno parte del Dataset non soffrono di depressione, questo potrebbe essere un problema nella fase di modellazione e valutazione del modello. \n"
      ]
    },
    {
      "cell_type": "code",
      "source": [
        "student.isna().sum()"
      ],
      "metadata": {
        "colab": {
          "base_uri": "https://localhost:8080/",
          "height": 0
        },
        "id": "1_TW6O67a_Tq",
        "outputId": "f9aae7dc-fcf7-49b2-fb9a-7db7f04382ac"
      },
      "execution_count": 9,
      "outputs": [
        {
          "output_type": "execute_result",
          "data": {
            "text/plain": [
              "gender          0\n",
              "age             0\n",
              "course          0\n",
              "year            0\n",
              "grades          0\n",
              "marital         0\n",
              "depression      0\n",
              "anxiety         0\n",
              "panic_attack    0\n",
              "specialist      0\n",
              "sport           0\n",
              "alchool         0\n",
              "dtype: int64"
            ]
          },
          "metadata": {},
          "execution_count": 9
        }
      ]
    },
    {
      "cell_type": "markdown",
      "source": [
        "Il dataset non contiene valori nulli"
      ],
      "metadata": {
        "id": "6XNULyubBWvl"
      }
    },
    {
      "cell_type": "code",
      "source": [
        "fig, axes = plt.subplots(nrows=1, ncols=2, sharex=False, sharey=False, figsize=(20, 10))\n",
        "\n",
        "\n",
        "axes[0].boxplot(student[\"grades\"], showmeans=True)\n",
        "axes[1].boxplot(student[\"age\"], showmeans=True)\n",
        "axes[0].set_title(\"grades Boxplot\")\n",
        "axes[1].set_title(\"age Boxplot\")"
      ],
      "metadata": {
        "colab": {
          "base_uri": "https://localhost:8080/",
          "height": 624
        },
        "id": "e0qYsjiUBiNd",
        "outputId": "4f320269-dfba-4cbd-dfe1-e719ba49e81f"
      },
      "execution_count": 10,
      "outputs": [
        {
          "output_type": "execute_result",
          "data": {
            "text/plain": [
              "Text(0.5, 1.0, 'age Boxplot')"
            ]
          },
          "metadata": {},
          "execution_count": 10
        },
        {
          "output_type": "display_data",
          "data": {
            "text/plain": [
              "<Figure size 1440x720 with 2 Axes>"
            ],
            "image/png": "[encoded data removed]"
          },
          "metadata": {
            "needs_background": "light"
          }
        }
      ]
    },
    {
      "cell_type": "markdown",
      "source": [
        "Come abbiamo già  potuto constatare i dati sono distribuiti uniformemente, non ci sono eccezioni o elementi fuori dal range di valori accettabili"
      ],
      "metadata": {
        "id": "ajxbufeD-7qa"
      }
    },
    {
      "cell_type": "code",
      "source": [
        "plt.figure(figsize=(20, 10))\n",
        "\n",
        "plt.subplot(2, 3, 1)\n",
        "plt.title('Age')\n",
        "plt.hist(student['age'], label=\"age\", color='gray', bins=7)\n",
        "plt.ylabel('count')\n",
        "\n",
        "plt.subplot(2, 3, 2)\n",
        "plt.title('course')\n",
        "plt.hist(student['course'], label=\"course\")\n",
        "plt.xticks(rotation=90)\n",
        "plt.ylabel('count')\n",
        "\n",
        "plt.subplot(2, 3, 3)\n",
        "plt.title('grades')\n",
        "plt.hist(student['grades'], label=\"grades\", color=\"red\")\n",
        "plt.ylabel('count')\n",
        "\n",
        "plt.subplot(2, 3, 4)\n",
        "plt.title('year')\n",
        "plt.hist(student['year'], label=\"year\", color=\"green\", bins=5)\n",
        "plt.ylabel('count')\n",
        "\n",
        "\n",
        "plt.show()"
      ],
      "metadata": {
        "colab": {
          "base_uri": "https://localhost:8080/",
          "height": 607
        },
        "id": "ZRHJRmtsdE3g",
        "outputId": "cf92428c-4132-4062-de1b-8d06ffa1e83a"
      },
      "execution_count": 11,
      "outputs": [
        {
          "output_type": "display_data",
          "data": {
            "text/plain": [
              "<Figure size 1440x720 with 4 Axes>"
            ],
            "image/png": "[encoded data removed]"
          },
          "metadata": {
            "needs_background": "light"
          }
        }
      ]
    },
    {
      "cell_type": "code",
      "source": [
        "plt.figure(figsize=(20, 10))\n",
        "\n",
        "plt.subplot(2, 3, 1)\n",
        "plt.title('anxiety')\n",
        "student['anxiety'].value_counts().plot.pie(autopct='%1.1f%%')\n",
        "\n",
        "plt.subplot(2, 3, 2)\n",
        "plt.title('panic_attack')\n",
        "student['panic_attack'].value_counts().plot.pie(autopct='%1.1f%%')\n",
        "plt.ylabel('count')\n",
        "\n",
        "plt.subplot(2, 3, 3)\n",
        "plt.title('marital')\n",
        "student['marital'].value_counts().plot.pie(autopct='%1.1f%%')\n",
        "plt.ylabel('count')\n",
        "\n",
        "plt.subplot(2, 3, 4)\n",
        "plt.title('specialist')\n",
        "student['specialist'].value_counts().plot.pie(autopct='%1.1f%%')\n",
        "plt.ylabel('count')\n",
        "\n",
        "plt.subplot(2, 3, 5)\n",
        "plt.title('sport')\n",
        "student['sport'].value_counts().plot.pie(autopct='%1.1f%%')\n",
        "plt.ylabel('count')\n",
        "\n",
        "plt.subplot(2, 3, 6)\n",
        "plt.title('alchool')\n",
        "student['alchool'].value_counts().plot.pie(autopct='%1.1f%%')\n",
        "plt.ylabel('count')"
      ],
      "metadata": {
        "colab": {
          "base_uri": "https://localhost:8080/",
          "height": 607
        },
        "id": "uMbKuxJaDEni",
        "outputId": "ff3f47c3-6d86-4a0c-a024-a21657128b75"
      },
      "execution_count": 12,
      "outputs": [
        {
          "output_type": "execute_result",
          "data": {
            "text/plain": [
              "Text(0, 0.5, 'count')"
            ]
          },
          "metadata": {},
          "execution_count": 12
        },
        {
          "output_type": "display_data",
          "data": {
            "text/plain": [
              "<Figure size 1440x720 with 6 Axes>"
            ],
            "image/png": "[encoded data removed]"
          },
          "metadata": {}
        }
      ]
    },
    {
      "cell_type": "code",
      "source": [
        "import seaborn as sns\n",
        "\n",
        "from matplotlib import rcParams\n",
        "plt.figure(figsize=(20, 10))\n",
        "plt.subplot(3, 3, 1)\n",
        "sns.countplot(x='marital', hue='depression', data = student, palette=\"Set2\");\n",
        "plt.subplot(3, 3, 2)\n",
        "sns.countplot(x='anxiety', hue='depression', data = student, palette=\"Set2\");\n",
        "plt.subplot(3, 3, 3)\n",
        "sns.countplot(x='panic_attack', hue='depression', data = student, palette=\"Set2\");\n",
        "plt.subplot(3, 3, 4)\n",
        "sns.countplot(x='specialist', hue='depression', data = student, palette=\"Set2\");\n",
        "plt.subplot(3, 3, 5)\n",
        "sns.countplot(x='age', hue='depression', data = student, palette=\"Set2\");\n",
        "plt.subplot(3, 3, 6)\n",
        "sns.countplot(x='gender', hue='depression', data = student, palette=\"Set2\");\n",
        "plt.subplot(3, 3, 7)\n",
        "sns.countplot(x='sport', hue='depression', data = student, palette=\"Set2\");\n",
        "plt.subplot(3, 3, 8)\n",
        "sns.countplot(x='alchool', hue='depression', data = student, palette=\"Set2\");"
      ],
      "metadata": {
        "colab": {
          "base_uri": "https://localhost:8080/",
          "height": 607
        },
        "id": "826eho8hFDdQ",
        "outputId": "a7f6ed62-1645-4643-f2dc-ff493e540066"
      },
      "execution_count": 13,
      "outputs": [
        {
          "output_type": "display_data",
          "data": {
            "text/plain": [
              "<Figure size 1440x720 with 8 Axes>"
            ],
            "image/png": "[encoded data removed]"
          },
          "metadata": {
            "needs_background": "light"
          }
        }
      ]
    },
    {
      "cell_type": "markdown",
      "source": [
        "Dai grafici appena mostrati notiamo chiaramente che ci sono diverse correlazioni tra i dati e la presenza o meno di depressione.\n",
        "Le feature che sembrano essere più correlate alla depressione sono  **`sport`** e **`marital`**.\n",
        "\n",
        "Notiamo che tra tutti gli studenti chi fa sport ha una bassissima probabilità di soffrire di depressione.\n",
        "\n",
        "Notiamo inoltre che ci sono più ragazze che soffrono di depressione di quanto siano i maschi.\n",
        "\n",
        "Dal grafico centrale notiamo chiaramente che al crescere dell'età crescono anche i casi di depressione.\n",
        "\n",
        "Infine si può osservare che chi fa uso regolarmente di alchol, chi soffre di attacchi di panico o di ansia e chi è seguito da uno specialista ha più probabilità di soffrire di depressione.\n"
      ],
      "metadata": {
        "id": "YTW7wF16qNUb"
      }
    },
    {
      "cell_type": "code",
      "source": [
        "_ = student.groupby([pd.cut(student[\"grades\"], bins=10), \"depression\"]).size().unstack(\"depression\").plot.bar(stacked=False, figsize=(15,5))"
      ],
      "metadata": {
        "colab": {
          "base_uri": "https://localhost:8080/",
          "height": 408
        },
        "id": "ik9pAQmID8MG",
        "outputId": "f5a5b511-88f8-4008-b8a2-db470d9da64c"
      },
      "execution_count": 14,
      "outputs": [
        {
          "output_type": "display_data",
          "data": {
            "text/plain": [
              "<Figure size 1080x360 with 1 Axes>"
            ],
            "image/png": "[encoded data removed]"
          },
          "metadata": {
            "needs_background": "light"
          }
        }
      ]
    },
    {
      "cell_type": "markdown",
      "source": [
        "Notiamo che c'è una forte correlazione tra la media dei voti di uno studente con la presenza di depressione.\n",
        "Più ci muoviamo verso gli estremi e più i casi di depressione aumentano."
      ],
      "metadata": {
        "id": "YKKrxjCcsX2W"
      }
    },
    {
      "cell_type": "code",
      "source": [
        "plt.figure(figsize=(10, 5))\n",
        "\n",
        "sns.countplot(x='course', hue='depression', data = student, palette=\"Set2\")\n",
        "plt.xticks(rotation=90)"
      ],
      "metadata": {
        "colab": {
          "base_uri": "https://localhost:8080/",
          "height": 538
        },
        "id": "G0kbRNRzL9MP",
        "outputId": "fef7ff62-80ed-435d-ce00-3aa37ec0ef86"
      },
      "execution_count": 15,
      "outputs": [
        {
          "output_type": "execute_result",
          "data": {
            "text/plain": [
              "(array([0, 1, 2, 3, 4, 5, 6, 7, 8, 9]),\n",
              " <a list of 10 Text major ticklabel objects>)"
            ]
          },
          "metadata": {},
          "execution_count": 15
        },
        {
          "output_type": "display_data",
          "data": {
            "text/plain": [
              "<Figure size 720x360 with 1 Axes>"
            ],
            "image/png": "[encoded data removed]"
          },
          "metadata": {
            "needs_background": "light"
          }
        }
      ]
    },
    {
      "cell_type": "markdown",
      "source": [
        "Il corso di studi dello studente non sembra influire significativamente sulla depressione se non leggermente per i corsi di legge."
      ],
      "metadata": {
        "id": "wS9KTS2VGOx8"
      }
    },
    {
      "cell_type": "code",
      "execution_count": 16,
      "metadata": {
        "id": "ZhGysJNiFuNw"
      },
      "outputs": [],
      "source": [
        "def plot_correlation(dataset):\n",
        "    cmap = sns.diverging_palette(220, 10, as_cmap=True)\n",
        "    # Generate a mask for the upper triangle\n",
        "    mask = np.zeros_like(dataset, dtype=np.bool)\n",
        "    mask[np.triu_indices_from(mask)] = True\n",
        "\n",
        "    # Set up the matplotlib figure\n",
        "    f, ax = plt.subplots(figsize=(11, 9))\n",
        "    # Draw the heatmap with the mask and correct aspect ratio\n",
        "    sns.heatmap(dataset, mask=mask, cmap=cmap, vmax=.3, center=0,annot = True, square=True, linewidths=.5, cbar_kws={\"shrink\": .5});"
      ]
    },
    {
      "cell_type": "code",
      "source": [
        "plot_correlation(student.corr())"
      ],
      "metadata": {
        "colab": {
          "base_uri": "https://localhost:8080/",
          "height": 663
        },
        "id": "Zka-pnz4hRdR",
        "outputId": "eb00371e-3847-45d9-96a0-e14fb13a472d"
      },
      "execution_count": 17,
      "outputs": [
        {
          "output_type": "stream",
          "name": "stderr",
          "text": [
            "/usr/local/lib/python3.7/dist-packages/ipykernel_launcher.py:4: DeprecationWarning: `np.bool` is a deprecated alias for the builtin `bool`. To silence this warning, use `bool` by itself. Doing this will not modify any behavior and is safe. If you specifically wanted the numpy scalar type, use `np.bool_` here.\n",
            "Deprecated in NumPy 1.20; for more details and guidance: https://numpy.org/devdocs/release/1.20.0-notes.html#deprecations\n",
            "  after removing the cwd from sys.path.\n"
          ]
        },
        {
          "output_type": "display_data",
          "data": {
            "text/plain": [
              "<Figure size 792x648 with 2 Axes>"
            ],
            "image/png": "[encoded data removed]"
          },
          "metadata": {
            "needs_background": "light"
          }
        }
      ]
    },
    {
      "cell_type": "markdown",
      "metadata": {
        "id": "Zyvjag-_ijMt"
      },
      "source": [
        "Producendo una matrice di correlazione delle features, possiamo osservare le seguenti correlazioni rilevanti:  \n",
        "\n",
        "* `sport` vs `depression`: è molto evidente come chi faccia sport abbia molta meno probabilità di soffrire di depressione, ciò ci conferma le analisi fatte poco fa.\n",
        "* `alchool` vs `depression`: notiamo correlazione tra chi fa uso regolarmente di alchol e chi soffre di depressione, ciò si riflette inversamente sulla correlazione tra alchool e sport \n",
        "* `age` vs `year`: età e anno di corrente di studi sono fortemente correlati, come ci si poteva immaginare.\n",
        "* `depression` vs `marited`: Come abbiamo notato con analisi precedenti, depression è fortemente correlato dal campo marital.\n",
        "* `specialist` `panic_attack` `anxiety` conguentemente alle analisi fatte poco fa sono tutti più o meno correlati al campo depression \n",
        "\n",
        "\n",
        "Notiamo una inconguenza dall'analisi dei voti fatta poco fa dalla matrice di correlazione.\n",
        "Ci si aspettava infatti una correlazione tra `grades` e `depression` che non viene però esplicitata dalla matrice.  \n",
        "Questo potrebbe essere dovuto al fatto che la correlazione non è diretta, ma i casi di depressione aumentano sia nel caso in cui i voti siano sotto la media che quando i voti sono sopra la media, diminuendo quando grades è intorno alla media.\n",
        "Non essendo una correlazione lineare la matrice di correlazione non evidenzia questa correlazione."
      ]
    },
    {
      "cell_type": "markdown",
      "metadata": {
        "id": "7j_WHuxoDvHt"
      },
      "source": [
        "### Standardizzazione, regolarizzazione e multicollinearità\n",
        "\n",
        "---\n",
        "\n"
      ]
    },
    {
      "cell_type": "code",
      "execution_count": 18,
      "metadata": {
        "id": "FIx543uCFuNx"
      },
      "outputs": [],
      "source": [
        "features = ['gender','age','year','grades','marital','anxiety','panic_attack','specialist','sport','alchool']\n",
        "target = ['depression']"
      ]
    },
    {
      "cell_type": "markdown",
      "source": [
        "Convertiamo le variabili categoriche in numeriche.\n",
        "\n",
        "Converiamo la colonna `Course` in più colonne, una per ogni corso esistente.\n",
        "\n"
      ],
      "metadata": {
        "id": "2VA_Sx4CCjF4"
      }
    },
    {
      "cell_type": "code",
      "execution_count": 19,
      "metadata": {
        "id": "bi7w3R6hFuNx"
      },
      "outputs": [],
      "source": [
        "categorical_features = ['course']"
      ]
    },
    {
      "cell_type": "code",
      "execution_count": 20,
      "metadata": {
        "id": "aaFIWScwFuNx"
      },
      "outputs": [],
      "source": [
        "dataset = pd.get_dummies(student, columns=categorical_features, prefix=categorical_features)"
      ]
    },
    {
      "cell_type": "code",
      "source": [
        "dataset.head()"
      ],
      "metadata": {
        "colab": {
          "base_uri": "https://localhost:8080/",
          "height": 334
        },
        "id": "tV3_H0mS9MOp",
        "outputId": "594635dc-2b2d-409b-83f1-e6754652a389"
      },
      "execution_count": 21,
      "outputs": [
        {
          "output_type": "execute_result",
          "data": {
            "text/plain": [
              "   gender   age  year     grades  marital  depression  anxiety  panic_attack  \\\n",
              "0    True  21.0   3.0  20.252930    False       False     True         False   \n",
              "1   False  18.0   2.0  29.959451    False        True     True         False   \n",
              "2   False  21.0   2.0  25.429350     True        True    False          True   \n",
              "3    True  20.0   2.0  19.425978    False       False     True         False   \n",
              "4    True  18.0   1.0  21.539774    False       False     True         False   \n",
              "\n",
              "   specialist  sport  ...  course_Accounting  course_Business Studies  \\\n",
              "0       False   True  ...                  0                        0   \n",
              "1        True  False  ...                  0                        0   \n",
              "2        True  False  ...                  0                        0   \n",
              "3       False   True  ...                  1                        0   \n",
              "4       False   True  ...                  0                        0   \n",
              "\n",
              "   course_Computer Science  course_Design  course_Economics  course_Finance  \\\n",
              "0                        0              0                 0               1   \n",
              "1                        0              0                 0               0   \n",
              "2                        0              0                 0               0   \n",
              "3                        0              0                 0               0   \n",
              "4                        1              0                 0               0   \n",
              "\n",
              "   course_General Business and Management  course_Law  \\\n",
              "0                                       0           0   \n",
              "1                                       0           0   \n",
              "2                                       1           0   \n",
              "3                                       0           0   \n",
              "4                                       0           0   \n",
              "\n",
              "   course_Management Studies  course_Marketing  \n",
              "0                          0                 0  \n",
              "1                          1                 0  \n",
              "2                          0                 0  \n",
              "3                          0                 0  \n",
              "4                          0                 0  \n",
              "\n",
              "[5 rows x 21 columns]"
            ],
            "text/html": [
              "\n",
              "  <div id=\"df-8edfadad-b938-48cd-9101-ec0c1eb2019d\">\n",
              "    <div class=\"colab-df-container\">\n",
              "      <div>\n",
              "<style scoped>\n",
              "    .dataframe tbody tr th:only-of-type {\n",
              "        vertical-align: middle;\n",
              "    }\n",
              "\n",
              "    .dataframe tbody tr th {\n",
              "        vertical-align: top;\n",
              "    }\n",
              "\n",
              "    .dataframe thead th {\n",
              "        text-align: right;\n",
              "    }\n",
              "</style>\n",
              "<table border=\"1\" class=\"dataframe\">\n",
              "  <thead>\n",
              "    <tr style=\"text-align: right;\">\n",
              "      <th></th>\n",
              "      <th>gender</th>\n",
              "      <th>age</th>\n",
              "      <th>year</th>\n",
              "      <th>grades</th>\n",
              "      <th>marital</th>\n",
              "      <th>depression</th>\n",
              "      <th>anxiety</th>\n",
              "      <th>panic_attack</th>\n",
              "      <th>specialist</th>\n",
              "      <th>sport</th>\n",
              "      <th>...</th>\n",
              "      <th>course_Accounting</th>\n",
              "      <th>course_Business Studies</th>\n",
              "      <th>course_Computer Science</th>\n",
              "      <th>course_Design</th>\n",
              "      <th>course_Economics</th>\n",
              "      <th>course_Finance</th>\n",
              "      <th>course_General Business and Management</th>\n",
              "      <th>course_Law</th>\n",
              "      <th>course_Management Studies</th>\n",
              "      <th>course_Marketing</th>\n",
              "    </tr>\n",
              "  </thead>\n",
              "  <tbody>\n",
              "    <tr>\n",
              "      <th>0</th>\n",
              "      <td>True</td>\n",
              "      <td>21.0</td>\n",
              "      <td>3.0</td>\n",
              "      <td>20.252930</td>\n",
              "      <td>False</td>\n",
              "      <td>False</td>\n",
              "      <td>True</td>\n",
              "      <td>False</td>\n",
              "      <td>False</td>\n",
              "      <td>True</td>\n",
              "      <td>...</td>\n",
              "      <td>0</td>\n",
              "      <td>0</td>\n",
              "      <td>0</td>\n",
              "      <td>0</td>\n",
              "      <td>0</td>\n",
              "      <td>1</td>\n",
              "      <td>0</td>\n",
              "      <td>0</td>\n",
              "      <td>0</td>\n",
              "      <td>0</td>\n",
              "    </tr>\n",
              "    <tr>\n",
              "      <th>1</th>\n",
              "      <td>False</td>\n",
              "      <td>18.0</td>\n",
              "      <td>2.0</td>\n",
              "      <td>29.959451</td>\n",
              "      <td>False</td>\n",
              "      <td>True</td>\n",
              "      <td>True</td>\n",
              "      <td>False</td>\n",
              "      <td>True</td>\n",
              "      <td>False</td>\n",
              "      <td>...</td>\n",
              "      <td>0</td>\n",
              "      <td>0</td>\n",
              "      <td>0</td>\n",
              "      <td>0</td>\n",
              "      <td>0</td>\n",
              "      <td>0</td>\n",
              "      <td>0</td>\n",
              "      <td>0</td>\n",
              "      <td>1</td>\n",
              "      <td>0</td>\n",
              "    </tr>\n",
              "    <tr>\n",
              "      <th>2</th>\n",
              "      <td>False</td>\n",
              "      <td>21.0</td>\n",
              "      <td>2.0</td>\n",
              "      <td>25.429350</td>\n",
              "      <td>True</td>\n",
              "      <td>True</td>\n",
              "      <td>False</td>\n",
              "      <td>True</td>\n",
              "      <td>True</td>\n",
              "      <td>False</td>\n",
              "      <td>...</td>\n",
              "      <td>0</td>\n",
              "      <td>0</td>\n",
              "      <td>0</td>\n",
              "      <td>0</td>\n",
              "      <td>0</td>\n",
              "      <td>0</td>\n",
              "      <td>1</td>\n",
              "      <td>0</td>\n",
              "      <td>0</td>\n",
              "      <td>0</td>\n",
              "    </tr>\n",
              "    <tr>\n",
              "      <th>3</th>\n",
              "      <td>True</td>\n",
              "      <td>20.0</td>\n",
              "      <td>2.0</td>\n",
              "      <td>19.425978</td>\n",
              "      <td>False</td>\n",
              "      <td>False</td>\n",
              "      <td>True</td>\n",
              "      <td>False</td>\n",
              "      <td>False</td>\n",
              "      <td>True</td>\n",
              "      <td>...</td>\n",
              "      <td>1</td>\n",
              "      <td>0</td>\n",
              "      <td>0</td>\n",
              "      <td>0</td>\n",
              "      <td>0</td>\n",
              "      <td>0</td>\n",
              "      <td>0</td>\n",
              "      <td>0</td>\n",
              "      <td>0</td>\n",
              "      <td>0</td>\n",
              "    </tr>\n",
              "    <tr>\n",
              "      <th>4</th>\n",
              "      <td>True</td>\n",
              "      <td>18.0</td>\n",
              "      <td>1.0</td>\n",
              "      <td>21.539774</td>\n",
              "      <td>False</td>\n",
              "      <td>False</td>\n",
              "      <td>True</td>\n",
              "      <td>False</td>\n",
              "      <td>False</td>\n",
              "      <td>True</td>\n",
              "      <td>...</td>\n",
              "      <td>0</td>\n",
              "      <td>0</td>\n",
              "      <td>1</td>\n",
              "      <td>0</td>\n",
              "      <td>0</td>\n",
              "      <td>0</td>\n",
              "      <td>0</td>\n",
              "      <td>0</td>\n",
              "      <td>0</td>\n",
              "      <td>0</td>\n",
              "    </tr>\n",
              "  </tbody>\n",
              "</table>\n",
              "<p>5 rows × 21 columns</p>\n",
              "</div>\n",
              "      <button class=\"colab-df-convert\" onclick=\"convertToInteractive('df-8edfadad-b938-48cd-9101-ec0c1eb2019d')\"\n",
              "              title=\"Convert this dataframe to an interactive table.\"\n",
              "              style=\"display:none;\">\n",
              "        \n",
              "  <svg xmlns=\"http://www.w3.org/2000/svg\" height=\"24px\"viewBox=\"0 0 24 24\"\n",
              "       width=\"24px\">\n",
              "    <path d=\"M0 0h24v24H0V0z\" fill=\"none\"/>\n",
              "    <path d=\"M18.56 5.44l.94 2.06.94-2.06 2.06-.94-2.06-.94-.94-2.06-.94 2.06-2.06.94zm-11 1L8.5 8.5l.94-2.06 2.06-.94-2.06-.94L8.5 2.5l-.94 2.06-2.06.94zm10 10l.94 2.06.94-2.06 2.06-.94-2.06-.94-.94-2.06-.94 2.06-2.06.94z\"/><path d=\"M17.41 7.96l-1.37-1.37c-.4-.4-.92-.59-1.43-.59-.52 0-1.04.2-1.43.59L10.3 9.45l-7.72 7.72c-.78.78-.78 2.05 0 2.83L4 21.41c.39.39.9.59 1.41.59.51 0 1.02-.2 1.41-.59l7.78-7.78 2.81-2.81c.8-.78.8-2.07 0-2.86zM5.41 20L4 18.59l7.72-7.72 1.47 1.35L5.41 20z\"/>\n",
              "  </svg>\n",
              "      </button>\n",
              "      \n",
              "  <style>\n",
              "    .colab-df-container {\n",
              "      display:flex;\n",
              "      flex-wrap:wrap;\n",
              "      gap: 12px;\n",
              "    }\n",
              "\n",
              "    .colab-df-convert {\n",
              "      background-color: #E8F0FE;\n",
              "      border: none;\n",
              "      border-radius: 50%;\n",
              "      cursor: pointer;\n",
              "      display: none;\n",
              "      fill: #1967D2;\n",
              "      height: 32px;\n",
              "      padding: 0 0 0 0;\n",
              "      width: 32px;\n",
              "    }\n",
              "\n",
              "    .colab-df-convert:hover {\n",
              "      background-color: #E2EBFA;\n",
              "      box-shadow: 0px 1px 2px rgba(60, 64, 67, 0.3), 0px 1px 3px 1px rgba(60, 64, 67, 0.15);\n",
              "      fill: #174EA6;\n",
              "    }\n",
              "\n",
              "    [theme=dark] .colab-df-convert {\n",
              "      background-color: #3B4455;\n",
              "      fill: #D2E3FC;\n",
              "    }\n",
              "\n",
              "    [theme=dark] .colab-df-convert:hover {\n",
              "      background-color: #434B5C;\n",
              "      box-shadow: 0px 1px 3px 1px rgba(0, 0, 0, 0.15);\n",
              "      filter: drop-shadow(0px 1px 2px rgba(0, 0, 0, 0.3));\n",
              "      fill: #FFFFFF;\n",
              "    }\n",
              "  </style>\n",
              "\n",
              "      <script>\n",
              "        const buttonEl =\n",
              "          document.querySelector('#df-8edfadad-b938-48cd-9101-ec0c1eb2019d button.colab-df-convert');\n",
              "        buttonEl.style.display =\n",
              "          google.colab.kernel.accessAllowed ? 'block' : 'none';\n",
              "\n",
              "        async function convertToInteractive(key) {\n",
              "          const element = document.querySelector('#df-8edfadad-b938-48cd-9101-ec0c1eb2019d');\n",
              "          const dataTable =\n",
              "            await google.colab.kernel.invokeFunction('convertToInteractive',\n",
              "                                                     [key], {});\n",
              "          if (!dataTable) return;\n",
              "\n",
              "          const docLinkHtml = 'Like what you see? Visit the ' +\n",
              "            '<a target=\"_blank\" href=https://colab.research.google.com/notebooks/data_table.ipynb>data table notebook</a>'\n",
              "            + ' to learn more about interactive tables.';\n",
              "          element.innerHTML = '';\n",
              "          dataTable['output_type'] = 'display_data';\n",
              "          await google.colab.output.renderOutput(dataTable, element);\n",
              "          const docLink = document.createElement('div');\n",
              "          docLink.innerHTML = docLinkHtml;\n",
              "          element.appendChild(docLink);\n",
              "        }\n",
              "      </script>\n",
              "    </div>\n",
              "  </div>\n",
              "  "
            ]
          },
          "metadata": {},
          "execution_count": 21
        }
      ]
    },
    {
      "cell_type": "markdown",
      "metadata": {
        "id": "pCPLrgrCijMu"
      },
      "source": [
        "Si convertono ora le features categoriche splittando i loro valori nelle rispettive classi di appartenenza: `course` prevede 10 classi, ognuna per un corso di studi. \n",
        "\n",
        "Sarà presente un 1 solo in corrispondenza della classe di appartenenza e 0 negli altri casi. "
      ]
    },
    {
      "cell_type": "code",
      "execution_count": 22,
      "metadata": {
        "id": "VkmvrJKcFuNx"
      },
      "outputs": [],
      "source": [
        "from sklearn.model_selection import train_test_split\n",
        "from sklearn.pipeline import Pipeline\n",
        "from sklearn.model_selection import KFold\n",
        "from sklearn.model_selection import cross_val_score\n",
        "from sklearn.model_selection import GridSearchCV\n",
        "from sklearn.linear_model import LogisticRegression\n",
        "from sklearn.svm import SVC\n",
        "from sklearn.neighbors import KNeighborsClassifier\n",
        "from sklearn.tree import DecisionTreeClassifier\n",
        "from sklearn.ensemble import RandomForestClassifier\n",
        "from sklearn.tree import DecisionTreeClassifier\n",
        "from sklearn.linear_model import Perceptron\n",
        "from sklearn.preprocessing import StandardScaler\n",
        "from sklearn.metrics import classification_report\n",
        "from sklearn.model_selection import train_test_split\n",
        "from scipy import stats\n",
        "import math"
      ]
    },
    {
      "cell_type": "code",
      "execution_count": 23,
      "metadata": {
        "id": "UAp4nCnaFuNx"
      },
      "outputs": [],
      "source": [
        "X = dataset.drop('depression', axis=1)\n",
        "y = dataset['depression']"
      ]
    },
    {
      "cell_type": "code",
      "source": [
        "X_train, X_val, y_train, y_val = train_test_split(X, y.values.ravel(), test_size=0.3, random_state=43, stratify=y.values)"
      ],
      "metadata": {
        "id": "6MNi26PIHaKV"
      },
      "execution_count": 24,
      "outputs": []
    },
    {
      "cell_type": "markdown",
      "source": [
        "Addestriamo un semplice modello per verificare quali sono le feature più importanti."
      ],
      "metadata": {
        "id": "MbMfBVPvDI_T"
      }
    },
    {
      "cell_type": "code",
      "source": [
        "\n",
        "\n",
        "std_model = Pipeline([\n",
        "    (\"scaler\", StandardScaler()),\n",
        "    (\"model\",  Perceptron())\n",
        "])\n",
        "\n",
        "std_model.fit(X_train,y_train)\n",
        "print(\"R-squared coefficient: {:.5}\".format(std_model.score(X_val, y_val)))\n"
      ],
      "metadata": {
        "colab": {
          "base_uri": "https://localhost:8080/",
          "height": 0
        },
        "id": "zxC4tXPy2XT7",
        "outputId": "b31bc4a3-36e4-4eeb-8f78-83e01db1786e"
      },
      "execution_count": 25,
      "outputs": [
        {
          "output_type": "stream",
          "name": "stdout",
          "text": [
            "R-squared coefficient: 0.93667\n"
          ]
        }
      ]
    },
    {
      "cell_type": "code",
      "source": [
        "pd.Series(std_model[\"model\"].coef_[0], index=X_train.columns)"
      ],
      "metadata": {
        "colab": {
          "base_uri": "https://localhost:8080/",
          "height": 0
        },
        "id": "W4IEd2qu5jgh",
        "outputId": "ce747b87-daa9-49e2-a3c9-c4af51d8937c"
      },
      "execution_count": 26,
      "outputs": [
        {
          "output_type": "execute_result",
          "data": {
            "text/plain": [
              "gender                                    -3.593228\n",
              "age                                       -2.471399\n",
              "year                                       0.935539\n",
              "grades                                     4.885987\n",
              "marital                                   10.614456\n",
              "anxiety                                   -4.558651\n",
              "panic_attack                               9.419883\n",
              "specialist                                 4.045463\n",
              "sport                                    -13.943321\n",
              "alchool                                    7.859229\n",
              "course_Accounting                         -2.144940\n",
              "course_Business Studies                   -2.773398\n",
              "course_Computer Science                    1.476347\n",
              "course_Design                             -2.489068\n",
              "course_Economics                           0.830342\n",
              "course_Finance                             0.944120\n",
              "course_General Business and Management    -2.333333\n",
              "course_Law                                 1.136936\n",
              "course_Management Studies                  4.194408\n",
              "course_Marketing                           1.082622\n",
              "dtype: float64"
            ]
          },
          "metadata": {},
          "execution_count": 26
        }
      ]
    },
    {
      "cell_type": "markdown",
      "source": [
        "`Sport` e `Marital` sono le variabili che ancora una volta risultano più influenti per il modello."
      ],
      "metadata": {
        "id": "O2Q73jcGDlcV"
      }
    },
    {
      "cell_type": "markdown",
      "source": [
        "# Parte 3 - Modellazione\n",
        "\n",
        "Sono testati diversi modelli di classificazione. \n",
        "\n",
        "Tramite Grid Search e StratifiedKFold sono generati 5 modelli differenti in grado di stimare gli iperparametri e permettere il calcolo dell'accuratezza dei modelli studiati.\n",
        "\n",
        "In alcune GridSearch sono stati volontariamente omessi alcuni valori di iperparametri che sono stati testati individualmente su altri notebook. Questa decisione è stata fatta per alleggerire i tempi di calcolo di questo notebook in modo da presentare solo risultati rilevanti."
      ],
      "metadata": {
        "id": "OPRMi4FsSbBm"
      }
    },
    {
      "cell_type": "code",
      "execution_count": 27,
      "metadata": {
        "id": "2eKtTL23QT4s"
      },
      "outputs": [],
      "source": [
        "from sklearn.model_selection import KFold, StratifiedKFold\n",
        "skf = StratifiedKFold(3, shuffle=True, random_state=42)"
      ]
    },
    {
      "cell_type": "markdown",
      "metadata": {
        "id": "3gbVM3RXFuNy"
      },
      "source": [
        "## Perceptron\n"
      ]
    },
    {
      "cell_type": "code",
      "execution_count": 28,
      "metadata": {
        "id": "zsszpsStFuNy",
        "outputId": "ba15dd6e-680a-49bb-b041-0eb0aa39e61a",
        "colab": {
          "base_uri": "https://localhost:8080/",
          "height": 0
        }
      },
      "outputs": [
        {
          "output_type": "stream",
          "name": "stdout",
          "text": [
            "Best cross validation score: 0.9079157139182427\n",
            "\n",
            "             Test set score: 0.8960396039603962\n",
            "\n",
            "                Best params: {'perceptron__alpha': 0.0001, 'perceptron__l1_ratio': 0.5, 'perceptron__penalty': 'elasticnet', 'std': StandardScaler()}\n",
            "\n"
          ]
        }
      ],
      "source": [
        "models = {}\n",
        "\n",
        "\n",
        "from sklearn.model_selection import GridSearchCV\n",
        "from sklearn import metrics\n",
        "\n",
        "std_perceptron = Pipeline([\n",
        "    ('std', None),\n",
        "    ('perceptron', Perceptron(n_jobs=-1, early_stopping=True, n_iter_no_change=5))\n",
        "])\n",
        "\n",
        "parameters = [\n",
        "    {\n",
        "        \"std\": [None, StandardScaler()],\n",
        "        \"perceptron__penalty\": [\"l2\", \"l1\"],\n",
        "        'perceptron__alpha': [0.0001, 0.001, 0.01, 1, 10],\n",
        "    },\n",
        "    {\n",
        "        \"std\": [None, StandardScaler()],\n",
        "        \"perceptron__penalty\": [\"none\"]\n",
        "    },\n",
        "    {\n",
        "        \"std\": [None, StandardScaler()],\n",
        "        \"perceptron__penalty\": [\"elasticnet\"],\n",
        "        'perceptron__alpha': [0.0001, 0.001, 0.01, 1, 10],\n",
        "        'perceptron__l1_ratio':np.linspace(0,1,5)\n",
        "\n",
        "    }\n",
        "]\n",
        "\n",
        "perceptron_cv = GridSearchCV(std_perceptron, parameters, cv=skf, n_jobs=-1, scoring='f1')\n",
        "perceptron_cv.fit(X_train, y_train)\n",
        "\n",
        "score = perceptron_cv.score(X_val, y_val)\n",
        "\n",
        "print(\"Best cross validation score: {}\\n\".format(perceptron_cv.best_score_))\n",
        "print(\"             Test set score: {}\\n\".format(score))\n",
        "print(\"                Best params: {}\\n\".format(perceptron_cv.best_params_))\n",
        "\n",
        "models[\"Perceptron\"] = {\"Model\": perceptron_cv.best_estimator_, \"Score\": perceptron_cv.best_score_}\n",
        "\n"
      ]
    },
    {
      "cell_type": "code",
      "execution_count": 29,
      "metadata": {
        "id": "sN9HtxrtFuNy",
        "outputId": "4610b4ec-0bdb-4ca6-9c8c-f9a07f419a9a",
        "colab": {
          "base_uri": "https://localhost:8080/",
          "height": 0
        }
      },
      "outputs": [
        {
          "output_type": "execute_result",
          "data": {
            "text/plain": [
              "gender                                    -2.905432\n",
              "age                                        0.732725\n",
              "year                                       1.360329\n",
              "grades                                    -4.468663\n",
              "marital                                    8.044443\n",
              "anxiety                                   -0.249342\n",
              "panic_attack                              10.796813\n",
              "specialist                                 4.634021\n",
              "sport                                    -12.039631\n",
              "alchool                                    6.035412\n",
              "course_Accounting                         -2.053939\n",
              "course_Business Studies                    0.000000\n",
              "course_Computer Science                    3.151686\n",
              "course_Design                              0.000000\n",
              "course_Economics                          -2.668894\n",
              "course_Finance                             6.585283\n",
              "course_General Business and Management     0.000000\n",
              "course_Law                                 0.000000\n",
              "course_Management Studies                 -2.736769\n",
              "course_Marketing                          -2.294647\n",
              "dtype: float64"
            ]
          },
          "metadata": {},
          "execution_count": 29
        }
      ],
      "source": [
        "pd.Series(perceptron_cv.best_estimator_[1].coef_[0], index=X_train.columns)"
      ]
    },
    {
      "cell_type": "code",
      "source": [
        "pred = perceptron_cv.predict(X_val)\n",
        "print(classification_report(y_val, pred))"
      ],
      "metadata": {
        "colab": {
          "base_uri": "https://localhost:8080/",
          "height": 0
        },
        "id": "JFjxAoF1OJHr",
        "outputId": "e34a0cd5-ccb7-4c8b-be5e-f95360f72aa2"
      },
      "execution_count": 30,
      "outputs": [
        {
          "output_type": "stream",
          "name": "stdout",
          "text": [
            "              precision    recall  f1-score   support\n",
            "\n",
            "       False       0.95      0.94      0.95       399\n",
            "        True       0.89      0.90      0.90       201\n",
            "\n",
            "    accuracy                           0.93       600\n",
            "   macro avg       0.92      0.92      0.92       600\n",
            "weighted avg       0.93      0.93      0.93       600\n",
            "\n"
          ]
        }
      ]
    },
    {
      "cell_type": "markdown",
      "metadata": {
        "id": "kadoG7JMijMx"
      },
      "source": [
        "### Perceptron with Polynomial features"
      ]
    },
    {
      "cell_type": "code",
      "execution_count": 31,
      "metadata": {
        "id": "940Vwsz6ijMx",
        "outputId": "d96db30d-dadd-42be-95ef-1ca4ef30b2f1",
        "colab": {
          "base_uri": "https://localhost:8080/",
          "height": 0
        }
      },
      "outputs": [
        {
          "output_type": "stream",
          "name": "stderr",
          "text": [
            "/usr/local/lib/python3.7/dist-packages/joblib/externals/loky/process_executor.py:705: UserWarning: A worker stopped while some jobs were given to the executor. This can be caused by a too short worker timeout or by a memory leak.\n",
            "  \"timeout or by a memory leak.\", UserWarning\n"
          ]
        },
        {
          "output_type": "stream",
          "name": "stdout",
          "text": [
            "Best cross validation score: 0.9044047739699913\n",
            "\n",
            "             Test set score: 0.9227053140096618\n",
            "\n",
            "                Best params: {'perceptron__alpha': 0.0001, 'perceptron__l1_ratio': 0.5, 'perceptron__penalty': 'elasticnet', 'poly__degree': 4, 'std': None}\n",
            "\n"
          ]
        }
      ],
      "source": [
        "from sklearn.preprocessing import PolynomialFeatures\n",
        "\n",
        "poly_perceptron = Pipeline([\n",
        "    ('poly', PolynomialFeatures()),\n",
        "    ('std', StandardScaler()),\n",
        "    ('perceptron', Perceptron(n_jobs=-1,))\n",
        "])\n",
        "\n",
        "\n",
        "parameters = [\n",
        "    {\n",
        "        \"std\": [None, StandardScaler()],\n",
        "        \"perceptron__penalty\": [\"l2\", \"l1\"],\n",
        "        'perceptron__alpha': [0.0001, 0.001, 0.01, 1],\n",
        "        'poly__degree': list(range(1,5))\n",
        "\n",
        "    },\n",
        "    {\n",
        "        \"std\": [None, StandardScaler()],\n",
        "        \"perceptron__penalty\": [\"none\"],\n",
        "        'poly__degree': list(range(1,5))\n",
        "\n",
        "    },\n",
        "    {\n",
        "        \"std\": [None, StandardScaler()],\n",
        "        \"perceptron__penalty\": [\"elasticnet\"],\n",
        "        'perceptron__alpha': [0.0001, 0.001, 0.01, 1],\n",
        "        'perceptron__l1_ratio':[1,0.5,0.1],\n",
        "        'poly__degree': list(range(1,5))\n",
        "\n",
        "\n",
        "    }\n",
        "]\n",
        "\n",
        "poly_perceptron_cv = GridSearchCV(poly_perceptron, parameters, cv=skf, n_jobs=-1, return_train_score=True, scoring='f1')\n",
        "poly_perceptron_cv.fit(X_train, y_train)\n",
        "\n",
        "score = poly_perceptron_cv.score(X_val, y_val)\n",
        "\n",
        "print(\"Best cross validation score: {}\\n\".format(poly_perceptron_cv.best_score_))\n",
        "print(\"             Test set score: {}\\n\".format(score))\n",
        "print(\"                Best params: {}\\n\".format(poly_perceptron_cv.best_params_))\n",
        "\n",
        "models[\"Polynomial Perceptron\"] = {\"Model\": poly_perceptron_cv.best_estimator_, \"Score\": poly_perceptron_cv.best_score_}\n"
      ]
    },
    {
      "cell_type": "code",
      "source": [
        "pred = poly_perceptron_cv.predict(X_val)\n",
        "print(classification_report(y_val, pred))"
      ],
      "metadata": {
        "colab": {
          "base_uri": "https://localhost:8080/",
          "height": 0
        },
        "outputId": "83120f13-0208-41ef-dabf-786589fa11de",
        "id": "aLMW3HPbEYKb"
      },
      "execution_count": 32,
      "outputs": [
        {
          "output_type": "stream",
          "name": "stdout",
          "text": [
            "              precision    recall  f1-score   support\n",
            "\n",
            "       False       0.97      0.94      0.96       399\n",
            "        True       0.90      0.95      0.92       201\n",
            "\n",
            "    accuracy                           0.95       600\n",
            "   macro avg       0.94      0.95      0.94       600\n",
            "weighted avg       0.95      0.95      0.95       600\n",
            "\n"
          ]
        }
      ]
    },
    {
      "cell_type": "code",
      "source": [
        "#poly_perceptron_cv.best_estimator_[2].coef_[0]"
      ],
      "metadata": {
        "id": "pB_V4umkbHSL"
      },
      "execution_count": 33,
      "outputs": []
    },
    {
      "cell_type": "markdown",
      "metadata": {
        "id": "pM-LI6fGFuN5"
      },
      "source": [
        "\n",
        "# Logistic Regression"
      ]
    },
    {
      "cell_type": "markdown",
      "source": [
        "Metodo per ottenere un piano di separazione non ottimale ma lineare. Si può decidere:\n",
        "- Standardizzazione i dati sottraendo la media e scalando con la varianza\n",
        "- Metodo di penalizzazione/regolarizzazione\n",
        "- il valore di C, ovvero dell'inverso dell'intensità di regolarizzazione\n"
      ],
      "metadata": {
        "id": "tMUx_dll-8_x"
      }
    },
    {
      "cell_type": "code",
      "execution_count": 34,
      "metadata": {
        "id": "XVELNuytFuN6",
        "outputId": "ed6baca9-bacb-4c5f-9fd7-a8fce2f1b6ba",
        "colab": {
          "base_uri": "https://localhost:8080/",
          "height": 0
        }
      },
      "outputs": [
        {
          "output_type": "stream",
          "name": "stdout",
          "text": [
            "Best cross validation score: 0.930781184914608\n",
            "\n",
            "             Test set score: 0.923469387755102\n",
            "\n",
            "                Best params: {'lr__C': 0.17500000000000002, 'lr__penalty': 'l1', 'std': StandardScaler()}\n",
            "\n"
          ]
        }
      ],
      "source": [
        "from sklearn.linear_model import LogisticRegression\n",
        "from sklearn.preprocessing import StandardScaler\n",
        "from sklearn.pipeline import Pipeline\n",
        "\n",
        "std_lr = Pipeline([\n",
        "    ('std', StandardScaler()),\n",
        "    ('lr', LogisticRegression(solver=\"saga\"))\n",
        "])\n",
        "\n",
        "\n",
        "parameters = [\n",
        "    {\n",
        "        \"std\": [None, StandardScaler()],\n",
        "        \"lr__penalty\": [\"none\"]\n",
        "    },\n",
        "    {\n",
        "        \"std\": [None, StandardScaler()],\n",
        "        \"lr__penalty\": [\"l2\", \"l1\"],\n",
        "        \"lr__C\": np.linspace(0.1, 0.4, 5),\n",
        "\n",
        "    },\n",
        "    {\n",
        "        \"std\": [None, StandardScaler()],\n",
        "        \"lr__penalty\": [\"elasticnet\"],\n",
        "        \"lr__C\": np.linspace(0.1, 0.4, 5),\n",
        "        \"lr__l1_ratio\":  [0.1,0.2,0.5,1],\n",
        "    }\n",
        "]\n",
        "\n",
        "\n",
        "\n",
        "lr_gs = GridSearchCV(std_lr, parameters,cv=skf, n_jobs=-1, return_train_score=False, scoring='f1')\n",
        "lr_gs.fit(X_train, y_train)\n",
        "\n",
        "\n",
        "score = lr_gs.score(X_val, y_val)\n",
        "\n",
        "print(\"Best cross validation score: {}\\n\".format(lr_gs.best_score_))\n",
        "print(\"             Test set score: {}\\n\".format(score))\n",
        "print(\"                Best params: {}\\n\".format(lr_gs.best_params_))\n",
        "\n",
        "models[\"Logistic Regression\"] = {\"Model\": lr_gs.best_estimator_, \"Score\": lr_gs.best_score_}\n"
      ]
    },
    {
      "cell_type": "code",
      "execution_count": 35,
      "metadata": {
        "id": "989AxZMkFuN8",
        "outputId": "3023d5d6-2466-4c0b-c3c0-3772eec26ac3",
        "colab": {
          "base_uri": "https://localhost:8080/",
          "height": 0
        }
      },
      "outputs": [
        {
          "output_type": "stream",
          "name": "stdout",
          "text": [
            "              precision    recall  f1-score   support\n",
            "\n",
            "       False       0.95      0.97      0.96       399\n",
            "        True       0.95      0.90      0.92       201\n",
            "\n",
            "    accuracy                           0.95       600\n",
            "   macro avg       0.95      0.94      0.94       600\n",
            "weighted avg       0.95      0.95      0.95       600\n",
            "\n"
          ]
        }
      ],
      "source": [
        "pred = lr_gs.predict(X_val)\n",
        "print(classification_report(y_val, pred))"
      ]
    },
    {
      "cell_type": "code",
      "source": [
        "pd.Series(lr_gs.best_estimator_[1].coef_[0], index=X_train.columns)"
      ],
      "metadata": {
        "colab": {
          "base_uri": "https://localhost:8080/",
          "height": 0
        },
        "id": "Nqr4CCaSp9Dh",
        "outputId": "b39c2df7-bf06-4f2e-b6c4-9e1f2a1fbbb2"
      },
      "execution_count": 36,
      "outputs": [
        {
          "output_type": "execute_result",
          "data": {
            "text/plain": [
              "gender                                   -0.553024\n",
              "age                                       0.000000\n",
              "year                                      0.002008\n",
              "grades                                    0.088334\n",
              "marital                                   1.201913\n",
              "anxiety                                  -0.194466\n",
              "panic_attack                              1.392894\n",
              "specialist                                0.588103\n",
              "sport                                    -1.845944\n",
              "alchool                                   0.857343\n",
              "course_Accounting                        -0.002144\n",
              "course_Business Studies                   0.000000\n",
              "course_Computer Science                   0.021491\n",
              "course_Design                             0.016712\n",
              "course_Economics                          0.000000\n",
              "course_Finance                            0.000000\n",
              "course_General Business and Management    0.000000\n",
              "course_Law                                0.000000\n",
              "course_Management Studies                 0.000000\n",
              "course_Marketing                         -0.151352\n",
              "dtype: float64"
            ]
          },
          "metadata": {},
          "execution_count": 36
        }
      ]
    },
    {
      "cell_type": "markdown",
      "source": [
        "# RandomForest"
      ],
      "metadata": {
        "id": "PY8L5yeUTuTV"
      }
    },
    {
      "cell_type": "code",
      "execution_count": 37,
      "metadata": {
        "id": "MDVK9NyIFuOG",
        "outputId": "97a36f4d-a229-4aeb-b500-809ffc8245dd",
        "colab": {
          "base_uri": "https://localhost:8080/",
          "height": 0
        }
      },
      "outputs": [
        {
          "output_type": "stream",
          "name": "stdout",
          "text": [
            "Best cross validation score: 0.9348175501775159\n",
            "\n",
            "             Test set score: 0.9360613810741688\n",
            "\n",
            "                Best params: {'rfc__max_depth': 8, 'rfc__min_samples_leaf': 2, 'rfc__min_samples_split': 2, 'rfc__n_estimators': 200}\n",
            "\n",
            "CPU times: user 3.83 s, sys: 276 ms, total: 4.11 s\n",
            "Wall time: 3min 14s\n"
          ]
        }
      ],
      "source": [
        "%%time\n",
        "\n",
        "from sklearn.ensemble import RandomForestClassifier\n",
        "from sklearn.metrics import classification_report\n",
        "\n",
        "rfc = Pipeline([\n",
        "    ('std', StandardScaler()),\n",
        "    ('rfc', RandomForestClassifier(n_jobs=-1, random_state=3))\n",
        "])\n",
        "\n",
        "parameters = {\n",
        "    'rfc__n_estimators': [100, 200, 300],\n",
        "    'rfc__max_depth': [2, 4, 6, 8, 10],\n",
        "    'rfc__min_samples_leaf': [2,2,10],\n",
        "    'rfc__min_samples_split': [2,10,20],\n",
        "}\n",
        "    \n",
        "\n",
        "rfc_gs = GridSearchCV(rfc, parameters, cv=skf, n_jobs=-1, return_train_score=True, scoring='f1')\n",
        "rfc_gs.fit(X_train, y_train)\n",
        "\n",
        "score = rfc_gs.score(X_val, y_val)\n",
        "\n",
        "print(\"Best cross validation score: {}\\n\".format(rfc_gs.best_score_))\n",
        "print(\"             Test set score: {}\\n\".format(score))\n",
        "print(\"                Best params: {}\\n\".format(rfc_gs.best_params_))\n",
        "\n",
        "models[\"RandomForest\"] = {\"Model\": rfc_gs.best_estimator_, \"Score\": rfc_gs.best_score_}\n"
      ]
    },
    {
      "cell_type": "code",
      "execution_count": 38,
      "metadata": {
        "id": "wENDtm5eFuOH",
        "outputId": "cd41fb59-cef8-40b1-fcbb-350558555fec",
        "colab": {
          "base_uri": "https://localhost:8080/",
          "height": 0
        }
      },
      "outputs": [
        {
          "output_type": "stream",
          "name": "stdout",
          "text": [
            "              precision    recall  f1-score   support\n",
            "\n",
            "       False       0.96      0.98      0.97       399\n",
            "        True       0.96      0.91      0.94       201\n",
            "\n",
            "    accuracy                           0.96       600\n",
            "   macro avg       0.96      0.95      0.95       600\n",
            "weighted avg       0.96      0.96      0.96       600\n",
            "\n"
          ]
        }
      ],
      "source": [
        "pred = rfc_gs.predict(X_val)\n",
        "\n",
        "print(classification_report(y_val, pred))"
      ]
    },
    {
      "cell_type": "code",
      "source": [
        "pd.Series(rfc_gs.best_estimator_[1].feature_importances_, index=X_train.columns)"
      ],
      "metadata": {
        "colab": {
          "base_uri": "https://localhost:8080/",
          "height": 0
        },
        "id": "YhVP_vKGF7En",
        "outputId": "e14f73ea-19c7-4dac-cc60-1470bf7c5ae8"
      },
      "execution_count": 39,
      "outputs": [
        {
          "output_type": "execute_result",
          "data": {
            "text/plain": [
              "gender                                    0.018562\n",
              "age                                       0.028588\n",
              "year                                      0.016613\n",
              "grades                                    0.076406\n",
              "marital                                   0.143047\n",
              "anxiety                                   0.007407\n",
              "panic_attack                              0.206210\n",
              "specialist                                0.042575\n",
              "sport                                     0.347354\n",
              "alchool                                   0.085294\n",
              "course_Accounting                         0.002444\n",
              "course_Business Studies                   0.002251\n",
              "course_Computer Science                   0.003078\n",
              "course_Design                             0.002694\n",
              "course_Economics                          0.001805\n",
              "course_Finance                            0.002370\n",
              "course_General Business and Management    0.003414\n",
              "course_Law                                0.003587\n",
              "course_Management Studies                 0.002815\n",
              "course_Marketing                          0.003487\n",
              "dtype: float64"
            ]
          },
          "metadata": {},
          "execution_count": 39
        }
      ]
    },
    {
      "cell_type": "markdown",
      "metadata": {
        "id": "a1uAlsSDFtYr"
      },
      "source": [
        "### Decision Tree"
      ]
    },
    {
      "cell_type": "code",
      "execution_count": 40,
      "metadata": {
        "id": "JdXoA57vFtYr",
        "outputId": "ba1d22b2-db20-4eed-8f26-468fa63a010a",
        "colab": {
          "base_uri": "https://localhost:8080/",
          "height": 0
        }
      },
      "outputs": [
        {
          "output_type": "stream",
          "name": "stdout",
          "text": [
            "Best cross validation score: 0.9087426926001195\n",
            "\n",
            "             Test set score: 0.9090909090909091\n",
            "\n",
            "                Best params: {'scaler': None, 'tree__max_depth': 4}\n",
            "\n",
            "CPU times: user 108 ms, sys: 2.4 ms, total: 110 ms\n",
            "Wall time: 477 ms\n"
          ]
        }
      ],
      "source": [
        "%%time\n",
        "\n",
        "tree_model = Pipeline([\n",
        "    (\"scaler\", StandardScaler()),\n",
        "    (\"tree\", DecisionTreeClassifier(random_state=42))\n",
        "])\n",
        "\n",
        "#print(tree_model.get_params())\n",
        "\n",
        "tree_grid = {\"scaler\": [None, StandardScaler()],\n",
        "             'tree__max_depth': [i for i in range(2, 7)]\n",
        "             }\n",
        "\n",
        "tree_gs = GridSearchCV(tree_model, tree_grid, cv=skf, n_jobs=-1, return_train_score=True, scoring='f1')\n",
        "tree_gs.fit(X_train, y_train)\n",
        "\n",
        "score = tree_gs.score(X_val, y_val)\n",
        "\n",
        "print(\"Best cross validation score: {}\\n\".format(tree_gs.best_score_))\n",
        "print(\"             Test set score: {}\\n\".format(score))\n",
        "print(\"                Best params: {}\\n\".format(tree_gs.best_params_))\n",
        "\n",
        "\n",
        "models[\"Decision Tree\"] = {\"Model\": tree_gs.best_estimator_, \"Score\": tree_gs.best_score_}\n"
      ]
    },
    {
      "cell_type": "code",
      "execution_count": 41,
      "metadata": {
        "outputId": "64d31b03-4221-46a5-99db-3e31bffb76eb",
        "colab": {
          "base_uri": "https://localhost:8080/",
          "height": 0
        },
        "id": "kp2sqC5TR7Bj"
      },
      "outputs": [
        {
          "output_type": "stream",
          "name": "stdout",
          "text": [
            "              precision    recall  f1-score   support\n",
            "\n",
            "       False       0.95      0.96      0.96       399\n",
            "        True       0.92      0.90      0.91       201\n",
            "\n",
            "    accuracy                           0.94       600\n",
            "   macro avg       0.94      0.93      0.93       600\n",
            "weighted avg       0.94      0.94      0.94       600\n",
            "\n"
          ]
        }
      ],
      "source": [
        "pred = tree_gs.predict(X_val)\n",
        "\n",
        "print(classification_report(y_val, pred))"
      ]
    },
    {
      "cell_type": "code",
      "source": [
        "pd.Series(tree_gs.best_estimator_[1].feature_importances_, index=X_train.columns)"
      ],
      "metadata": {
        "colab": {
          "base_uri": "https://localhost:8080/",
          "height": 0
        },
        "id": "TXdP9NimFzpK",
        "outputId": "7b10183f-6b49-4efc-c5c6-7cad5a14dec7"
      },
      "execution_count": 42,
      "outputs": [
        {
          "output_type": "execute_result",
          "data": {
            "text/plain": [
              "gender                                    0.000000\n",
              "age                                       0.000000\n",
              "year                                      0.000000\n",
              "grades                                    0.020787\n",
              "marital                                   0.103975\n",
              "anxiety                                   0.000000\n",
              "panic_attack                              0.101136\n",
              "specialist                                0.000000\n",
              "sport                                     0.737182\n",
              "alchool                                   0.036804\n",
              "course_Accounting                         0.000000\n",
              "course_Business Studies                   0.000000\n",
              "course_Computer Science                   0.000000\n",
              "course_Design                             0.000000\n",
              "course_Economics                          0.000000\n",
              "course_Finance                            0.000117\n",
              "course_General Business and Management    0.000000\n",
              "course_Law                                0.000000\n",
              "course_Management Studies                 0.000000\n",
              "course_Marketing                          0.000000\n",
              "dtype: float64"
            ]
          },
          "metadata": {},
          "execution_count": 42
        }
      ]
    },
    {
      "cell_type": "markdown",
      "metadata": {
        "id": "vvd4oT5SFtYr"
      },
      "source": [
        "# Riepilogo dll'accuratezza ottenuta"
      ]
    },
    {
      "cell_type": "code",
      "execution_count": 43,
      "metadata": {
        "id": "x7MlBKbJFtYs",
        "outputId": "720050ed-7400-4ff4-bf80-82364345ec52",
        "colab": {
          "base_uri": "https://localhost:8080/",
          "height": 0
        }
      },
      "outputs": [
        {
          "output_type": "stream",
          "name": "stdout",
          "text": [
            "Perceptron:\n",
            "\t\t\t\t0.9079157139182427\n",
            "Polynomial Perceptron:\n",
            "\t\t\t\t0.9044047739699913\n",
            "Logistic Regression:\n",
            "\t\t\t\t0.930781184914608\n",
            "RandomForest:\n",
            "\t\t\t\t0.9348175501775159\n",
            "Decision Tree:\n",
            "\t\t\t\t0.9087426926001195\n"
          ]
        }
      ],
      "source": [
        "for name, model in models.items():\n",
        "    print(name + \":\\n\\t\\t\\t\\t{}\".format(model[\"Score\"]))"
      ]
    },
    {
      "cell_type": "markdown",
      "metadata": {
        "id": "SlnbG_DBFtYs"
      },
      "source": [
        "# Parte 4 - Valutazione dei modelli di classificazione\n",
        "\n",
        "L'accuratezza non è una buona stima della capacità predittiva di un modello di classificazione, in particolare nei casi in cui il dataset è sbilanciato, perchè contiene maggiori record appartenenti ad una classe. In questo caso se si costruisse un modello che predica sempre l'assenza di depressione, esso avrebbe una accuratezza di circa il 70%"
      ]
    },
    {
      "cell_type": "code",
      "execution_count": 44,
      "metadata": {
        "id": "VWNCt0SDFtYs"
      },
      "outputs": [],
      "source": [
        "from sklearn.metrics import confusion_matrix\n",
        "from sklearn.metrics import precision_score, recall_score, f1_score"
      ]
    },
    {
      "cell_type": "markdown",
      "metadata": {
        "id": "xtUUlZa9FtYs"
      },
      "source": [
        "### Precision, Recall e F1-Score"
      ]
    },
    {
      "cell_type": "markdown",
      "metadata": {
        "id": "XIVSUYwJFtYs"
      },
      "source": [
        "Si costruisce una **matrice di confusione** per ciascun modello creato in precedenza, calcolando la **precisione**, la **recall** e la **F1-score**.\n",
        "Il Perceptron ottiene nuovamente lo score peggiore mentre RandomForest ottiene lo score più alto di tutti"
      ]
    },
    {
      "cell_type": "markdown",
      "source": [
        "Calcoliamo i vari valori di score con un dataset che non è stato usato per il training dei modelli per verificare la generalità di essi."
      ],
      "metadata": {
        "id": "DXkiIlHX2dlt"
      }
    },
    {
      "cell_type": "code",
      "execution_count": 45,
      "metadata": {
        "id": "wzeX_mhIFtYs"
      },
      "outputs": [],
      "source": [
        "def calculate_precision_recall_f1(name, X, y) :\n",
        "    model = models[name]\n",
        "    y_pred = model[\"Model\"].predict(X)\n",
        "    \n",
        "    model[\"Precision\"] = precision_score(y, y_pred)\n",
        "    model[\"Recall\"] = recall_score(y, y_pred)\n",
        "    model[\"F1_Score\"] = f1_score(y, y_pred, average=\"macro\")\n",
        "    \n",
        "    print(\"{}:\\n\\n \\\n",
        "    Confusion matrix:\\n{}\\n\\n \\\n",
        "           Precision: {}\\n \\\n",
        "              Recall: {}\\n \\\n",
        "    F1 Score (macro): {}\\n\\n\\n\".format(name, \n",
        "                                 pd.DataFrame(confusion_matrix(y, y_pred), index=classes, columns=classes), \n",
        "                                 model[\"Precision\"], \n",
        "                                 model[\"Recall\"], \n",
        "                                 model[\"F1_Score\"]))"
      ]
    },
    {
      "cell_type": "code",
      "execution_count": 46,
      "metadata": {
        "scrolled": false,
        "id": "tAMF4r95FtYt",
        "outputId": "e1a0c947-76b7-41c2-f3d6-e7ebcfc0ec21",
        "colab": {
          "base_uri": "https://localhost:8080/",
          "height": 0
        }
      },
      "outputs": [
        {
          "output_type": "stream",
          "name": "stdout",
          "text": [
            "Perceptron:\n",
            "\n",
            "     Confusion matrix:\n",
            "               not depressed  depressed\n",
            "not depressed            377         22\n",
            "depressed                 20        181\n",
            "\n",
            "            Precision: 0.8916256157635468\n",
            "               Recall: 0.900497512437811\n",
            "     F1 Score (macro): 0.9216378924324593\n",
            "\n",
            "\n",
            "\n",
            "Polynomial Perceptron:\n",
            "\n",
            "     Confusion matrix:\n",
            "               not depressed  depressed\n",
            "not depressed            377         22\n",
            "depressed                 10        191\n",
            "\n",
            "            Precision: 0.8967136150234741\n",
            "               Recall: 0.9502487562189055\n",
            "     F1 Score (macro): 0.9409964229081388\n",
            "\n",
            "\n",
            "\n",
            "Logistic Regression:\n",
            "\n",
            "     Confusion matrix:\n",
            "               not depressed  depressed\n",
            "not depressed            389         10\n",
            "depressed                 20        181\n",
            "\n",
            "            Precision: 0.9476439790575916\n",
            "               Recall: 0.900497512437811\n",
            "     F1 Score (macro): 0.9431703374419074\n",
            "\n",
            "\n",
            "\n",
            "RandomForest:\n",
            "\n",
            "     Confusion matrix:\n",
            "               not depressed  depressed\n",
            "not depressed            392          7\n",
            "depressed                 18        183\n",
            "\n",
            "            Precision: 0.9631578947368421\n",
            "               Recall: 0.9104477611940298\n",
            "     F1 Score (macro): 0.9525795162478384\n",
            "\n",
            "\n",
            "\n",
            "Decision Tree:\n",
            "\n",
            "     Confusion matrix:\n",
            "               not depressed  depressed\n",
            "not depressed            384         15\n",
            "depressed                 21        180\n",
            "\n",
            "            Precision: 0.9230769230769231\n",
            "               Recall: 0.8955223880597015\n",
            "     F1 Score (macro): 0.9321573948439621\n",
            "\n",
            "\n",
            "\n"
          ]
        }
      ],
      "source": [
        "classes = [\"not depressed\" , \"depressed\"]\n",
        "for name, model in models.items():\n",
        "    calculate_precision_recall_f1(name, X_val, y_val)"
      ]
    },
    {
      "cell_type": "markdown",
      "metadata": {
        "id": "81Ro5B-fFtYt"
      },
      "source": [
        "### Confronto modelli con intervallo di confidenza"
      ]
    },
    {
      "cell_type": "markdown",
      "metadata": {
        "id": "jOnGzi28FtYt"
      },
      "source": [
        "Si verifica con **confidenza** al 95% se la F1-Score dei modelli è statisticamente significativa una dall'altra. \n",
        "\n"
      ]
    },
    {
      "cell_type": "code",
      "execution_count": 62,
      "metadata": {
        "scrolled": true,
        "id": "3ZIdsumQFtYt",
        "outputId": "dd225b91-282c-4635-eec5-0c73965319e8",
        "colab": {
          "base_uri": "https://localhost:8080/"
        }
      },
      "outputs": [
        {
          "output_type": "stream",
          "name": "stdout",
          "text": [
            "RandomForest vs Logistic Regression , intervallo di confidenza:\n",
            "Valore minimo: -0.011694986957135205\n",
            "Valore massimo: 0.03051334456899733\n",
            "\n",
            "RandomForest vs Decision Tree , intervallo di confidenza:\n",
            "Valore minimo: -0.0016879346813130705\n",
            "Valore massimo: 0.042532177489065744\n",
            "\n",
            "RandomForest vs Polynomial Perceptron , intervallo di confidenza:\n",
            "Valore minimo: -0.009725426890605387\n",
            "Valore massimo: 0.03289161357000468\n",
            "\n"
          ]
        }
      ],
      "source": [
        "def difference_between_two_models(error1, error2, confidence):\n",
        "    z_half_alfa = stats.norm.ppf(confidence)\n",
        "    variance = (((1 - error1) * error1) / len(y_val)) + (((1 - error2) * error2) / len(y_val))\n",
        "    d_minus = abs(error1 - error2) - z_half_alfa * (pow(variance, 0.5))\n",
        "    d_plus = abs(error1 - error2) + z_half_alfa * (pow(variance, 0.5))\n",
        "    print(\"Valore minimo: {}\\nValore massimo: {}\\n\".format(d_minus, d_plus))\n",
        "\n",
        "lre_error = 1 - models[\"Logistic Regression\"][\"F1_Score\"]\n",
        "tree_error = 1 - models[\"Decision Tree\"][\"F1_Score\"]\n",
        "forest_error = 1 - models[\"RandomForest\"][\"F1_Score\"]\n",
        "poly_per = 1 - models[\"Polynomial Perceptron\"][\"F1_Score\"]\n",
        "\n",
        "print(\"RandomForest vs Logistic Regression , intervallo di confidenza:\")\n",
        "difference_between_two_models(forest_error, lre_error, 0.95)\n",
        "\n",
        "print(\"RandomForest vs Decision Tree , intervallo di confidenza:\")\n",
        "difference_between_two_models(forest_error, tree_error, 0.95)\n",
        "\n",
        "print(\"RandomForest vs Polynomial Perceptron , intervallo di confidenza:\")\n",
        "difference_between_two_models(forest_error, poly_per, 0.95)\n",
        "\n"
      ]
    },
    {
      "cell_type": "markdown",
      "metadata": {
        "id": "fcUvogU1FtYt"
      },
      "source": [
        "Riepilogo F1-Score"
      ]
    },
    {
      "cell_type": "code",
      "execution_count": 48,
      "metadata": {
        "id": "zPFmEutSFtYt",
        "outputId": "aab1f125-45b9-4dce-9656-021d9e0d1242",
        "colab": {
          "base_uri": "https://localhost:8080/",
          "height": 0
        }
      },
      "outputs": [
        {
          "output_type": "stream",
          "name": "stdout",
          "text": [
            "Perceptron:\n",
            "\t\t\t\t0.9216378924324593\n",
            "Polynomial Perceptron:\n",
            "\t\t\t\t0.9409964229081388\n",
            "Logistic Regression:\n",
            "\t\t\t\t0.9431703374419074\n",
            "RandomForest:\n",
            "\t\t\t\t0.9525795162478384\n",
            "Decision Tree:\n",
            "\t\t\t\t0.9321573948439621\n"
          ]
        }
      ],
      "source": [
        "for name, model in models.items():\n",
        "    print(name + \":\\n\\t\\t\\t\\t{}\".format(model[\"F1_Score\"]))"
      ]
    },
    {
      "cell_type": "markdown",
      "metadata": {
        "id": "5SUVGO1MFtYt"
      },
      "source": [
        "Il modello che ha ottenuto il risultato migliore è Random Forest.\n",
        "Con score leggermente minore troviamo Logistic Regression e Polynomial perceptron \n"
      ]
    },
    {
      "cell_type": "markdown",
      "metadata": {
        "id": "A93E42KGFtYu"
      },
      "source": [
        "## Parte 5 - Analisi del modello migliore"
      ]
    },
    {
      "cell_type": "code",
      "execution_count": 49,
      "metadata": {
        "id": "MiPtcMc8FtYu"
      },
      "outputs": [],
      "source": [
        "from sklearn.dummy import DummyClassifier"
      ]
    },
    {
      "cell_type": "markdown",
      "metadata": {
        "id": "1L959a35FtYu"
      },
      "source": [
        "### Confronto con modello casuale"
      ]
    },
    {
      "cell_type": "markdown",
      "metadata": {
        "id": "6k-TW4yzFtYu"
      },
      "source": [
        "Viene creato un modello casuale"
      ]
    },
    {
      "cell_type": "code",
      "execution_count": 50,
      "metadata": {
        "id": "spRxXT9uFtYu",
        "outputId": "1d992611-1468-4f7d-db6c-efc33af74f9d",
        "colab": {
          "base_uri": "https://localhost:8080/",
          "height": 0
        }
      },
      "outputs": [
        {
          "output_type": "execute_result",
          "data": {
            "text/plain": [
              "0.475"
            ]
          },
          "metadata": {},
          "execution_count": 50
        }
      ],
      "source": [
        "random = DummyClassifier(strategy=\"uniform\", random_state=42)\n",
        "random.fit(X_train, y_train)\n",
        "\n",
        "random_score = random.score(X_val, y_val)\n",
        "models[\"Dummy\"] = {\"Model\" : random, \"Score\": random_score}\n",
        "random_score"
      ]
    },
    {
      "cell_type": "markdown",
      "metadata": {
        "id": "3qkue1aIFtYu"
      },
      "source": [
        "Ovviamente tutti i modelli scelti precedentemente sono statisticamente migliori di uno casuale, di seguito sono riportati gli intervalli di confidenza"
      ]
    },
    {
      "cell_type": "code",
      "execution_count": 54,
      "metadata": {
        "scrolled": false,
        "id": "n31K9oRwFtYu",
        "outputId": "3edb9801-5bf3-4505-9dd9-dce4051e83ae",
        "colab": {
          "base_uri": "https://localhost:8080/",
          "height": 0
        }
      },
      "outputs": [
        {
          "output_type": "stream",
          "name": "stdout",
          "text": [
            "Dummy:\n",
            "\n",
            "     Confusion matrix:\n",
            "               not depressed  depressed\n",
            "not depressed            186        213\n",
            "depressed                102         99\n",
            "\n",
            "            Precision: 0.3173076923076923\n",
            "               Recall: 0.4925373134328358\n",
            "     F1 Score (macro): 0.46372481421895345\n",
            "\n",
            "\n",
            "\n",
            "Valore minimo: 0.43737141886100317\n",
            "Valore massimo: 0.5403379851967669\n",
            "\n",
            "Valore minimo: 0.42722914683522983\n",
            "Valore massimo: 0.5316618996106781\n",
            "\n",
            "Valore minimo: 0.42488948393590104\n",
            "Valore massimo: 0.5296537334424697\n",
            "\n",
            "Valore minimo: 0.4041124087357935\n",
            "Valore massimo: 0.5117137476912182\n",
            "\n",
            "Valore minimo: 0.4153901403319104\n",
            "Valore massimo: 0.521475020918107\n",
            "\n"
          ]
        }
      ],
      "source": [
        "calculate_precision_recall_f1(\"Dummy\", X_val, y_val)\n",
        "\n",
        "difference_between_two_models(1 - models[\"RandomForest\"][\"F1_Score\"], 1 - models[\"Dummy\"][\"F1_Score\"], 0.99)\n",
        "\n",
        "difference_between_two_models(1 - models[\"Logistic Regression\"][\"F1_Score\"], 1 - models[\"Dummy\"][\"F1_Score\"], 0.99)\n",
        "\n",
        "difference_between_two_models(1 - models[\"Polynomial Perceptron\"][\"F1_Score\"], 1 - models[\"Dummy\"][\"F1_Score\"], 0.99)\n",
        "\n",
        "difference_between_two_models(1 - models[\"Perceptron\"][\"F1_Score\"], 1 - models[\"Dummy\"][\"F1_Score\"], 0.99)\n",
        "\n",
        "difference_between_two_models(1 - models[\"Decision Tree\"][\"F1_Score\"], 1 - models[\"Dummy\"][\"F1_Score\"], 0.99)\n",
        "\n"
      ]
    },
    {
      "cell_type": "code",
      "execution_count": 60,
      "metadata": {
        "id": "BEspGJoEFtYv",
        "outputId": "ec9509ef-84ca-48ce-9e0c-598f58eb1ddb",
        "colab": {
          "base_uri": "https://localhost:8080/",
          "height": 497
        }
      },
      "outputs": [
        {
          "output_type": "display_data",
          "data": {
            "text/plain": [
              "<Figure size 1080x576 with 1 Axes>"
            ],
            "image/png": "[encoded data removed]"
          },
          "metadata": {
            "needs_background": "light"
          }
        }
      ],
      "source": [
        "from sklearn.metrics import precision_recall_curve\n",
        "\n",
        "fig = plt.figure(figsize=(15, 8))\n",
        "\n",
        "red_patch = mpatches.Patch(color='red', label='Random Forest')\n",
        "blue_patch = mpatches.Patch(color='blue', label='Logistic Regression')\n",
        "green_patch = mpatches.Patch(color='green', label='Dummy model')\n",
        "orange_patch = mpatches.Patch(color='orange', label='Decision Tree')\n",
        "\n",
        "\n",
        "plt.legend(handles=[red_patch, blue_patch,green_patch,orange_patch])\n",
        "\n",
        "precision_rf, recall_rf, tresholds_rf = precision_recall_curve(y_val, \n",
        "    models[\"RandomForest\"][\"Model\"].predict_proba(X_val)[:, 1])\n",
        "\n",
        "_ = plt.plot(precision_rf, recall_rf, color=\"red\")\n",
        "\n",
        "precision_knn, recall_knn, tresholds_knn = precision_recall_curve(y_val, \n",
        "    models[\"Logistic Regression\"][\"Model\"].predict_proba(X_val)[:, 1])\n",
        "\n",
        "_ = plt.plot(precision_knn, recall_knn, color=\"blue\")\n",
        "\n",
        "\n",
        "precision_knn, recall_knn, tresholds_knn = precision_recall_curve(y_val, \n",
        "    models[\"Dummy\"][\"Model\"].predict_proba(X_val)[:, 1])\n",
        "\n",
        "_ = plt.plot(precision_knn, recall_knn, color=\"green\")\n",
        "\n",
        "\n",
        "precision_knn, recall_knn, tresholds_knn = precision_recall_curve(y_val, \n",
        "    models[\"Decision Tree\"][\"Model\"].predict_proba(X_val)[:, 1])\n",
        "\n",
        "_ = plt.plot(precision_knn, recall_knn, color=\"orange\")\n",
        "\n",
        "\n",
        "\n",
        "_ = plt.xlabel(\"Precision\")\n",
        "_ = plt.ylabel(\"Recall\")"
      ]
    },
    {
      "cell_type": "markdown",
      "source": [
        "Maggiore è l'area sotto la curva migliore è il modello, è evidente come RandomForest sia leggermente superiore a tutti gli altri modelli provati\n",
        "\n",
        "A seguito di queste considerazioni, è stato scelto il modello basato su RandomForest"
      ],
      "metadata": {
        "id": "yCckzi0-Jevd"
      }
    },
    {
      "cell_type": "code",
      "source": [
        "calculate_precision_recall_f1(\"RandomForest\", X_val, y_val)\n"
      ],
      "metadata": {
        "colab": {
          "base_uri": "https://localhost:8080/",
          "height": 0
        },
        "id": "8yhb61RwKBrR",
        "outputId": "8ce85b9d-4f93-45de-a041-59ca41d5e649"
      },
      "execution_count": 53,
      "outputs": [
        {
          "output_type": "stream",
          "name": "stdout",
          "text": [
            "RandomForest:\n",
            "\n",
            "     Confusion matrix:\n",
            "               not depressed  depressed\n",
            "not depressed            392          7\n",
            "depressed                 18        183\n",
            "\n",
            "            Precision: 0.9631578947368421\n",
            "               Recall: 0.9104477611940298\n",
            "     F1 Score (macro): 0.9525795162478384\n",
            "\n",
            "\n",
            "\n"
          ]
        }
      ]
    }
  ]
}